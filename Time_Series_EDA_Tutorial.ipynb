{
  "nbformat": 4,
  "nbformat_minor": 0,
  "metadata": {
    "colab": {
      "name": "Time_Series_EDA_Tutorial.ipynb",
      "provenance": [],
      "collapsed_sections": [
        "oWtuY2hlBvvU",
        "-DOY8vxam3Sd"
      ],
      "toc_visible": true,
      "authorship_tag": "ABX9TyOUUZKirdc10MbXde0Ns59h",
      "include_colab_link": true
    },
    "kernelspec": {
      "name": "python3",
      "display_name": "Python 3"
    },
    "language_info": {
      "name": "python"
    }
  },
  "cells": [
    {
      "cell_type": "markdown",
      "metadata": {
        "id": "view-in-github",
        "colab_type": "text"
      },
      "source": [
        "<a href=\"https://colab.research.google.com/github/Karan51193/Time_Series/blob/main/Time_Series_EDA_Tutorial.ipynb\" target=\"_parent\"><img src=\"https://colab.research.google.com/assets/colab-badge.svg\" alt=\"Open In Colab\"/></a>"
      ]
    },
    {
      "cell_type": "markdown",
      "source": [
        "EDA TUTORIAL USING STOCK PRIZE PREDICTION"
      ],
      "metadata": {
        "id": "RNoBC7QMdm2p"
      }
    },
    {
      "cell_type": "markdown",
      "source": [
        "#Importing all libraries and installing"
      ],
      "metadata": {
        "id": "GU9kpx4TckyI"
      }
    },
    {
      "cell_type": "code",
      "source": [
        "# ## Install Pandas Data Reader\n",
        "# !pip install pandas-datareader"
      ],
      "metadata": {
        "id": "NZQ9cXv5cZZF"
      },
      "execution_count": null,
      "outputs": []
    },
    {
      "cell_type": "code",
      "source": [
        "import pandas_datareader as pdr\n",
        "import pandas as pd\n",
        "from datetime import datetime"
      ],
      "metadata": {
        "id": "1ZopFtJCcjXI"
      },
      "execution_count": 2,
      "outputs": []
    },
    {
      "cell_type": "code",
      "source": [
        "!pip install --upgrade pandas\n",
        "!pip install --upgrade pandas-datareader"
      ],
      "metadata": {
        "colab": {
          "base_uri": "https://localhost:8080/"
        },
        "id": "A34L50Zsdbi2",
        "outputId": "38df24f8-beee-40a2-db1d-2ed005fcce38"
      },
      "execution_count": 1,
      "outputs": [
        {
          "output_type": "stream",
          "name": "stdout",
          "text": [
            "Looking in indexes: https://pypi.org/simple, https://us-python.pkg.dev/colab-wheels/public/simple/\n",
            "Requirement already satisfied: pandas in /usr/local/lib/python3.7/dist-packages (1.3.5)\n",
            "Requirement already satisfied: pytz>=2017.3 in /usr/local/lib/python3.7/dist-packages (from pandas) (2022.2.1)\n",
            "Requirement already satisfied: python-dateutil>=2.7.3 in /usr/local/lib/python3.7/dist-packages (from pandas) (2.8.2)\n",
            "Requirement already satisfied: numpy>=1.17.3 in /usr/local/lib/python3.7/dist-packages (from pandas) (1.21.6)\n",
            "Requirement already satisfied: six>=1.5 in /usr/local/lib/python3.7/dist-packages (from python-dateutil>=2.7.3->pandas) (1.15.0)\n",
            "Looking in indexes: https://pypi.org/simple, https://us-python.pkg.dev/colab-wheels/public/simple/\n",
            "Requirement already satisfied: pandas-datareader in /usr/local/lib/python3.7/dist-packages (0.10.0)\n",
            "Requirement already satisfied: pandas>=0.23 in /usr/local/lib/python3.7/dist-packages (from pandas-datareader) (1.3.5)\n",
            "Requirement already satisfied: requests>=2.19.0 in /usr/local/lib/python3.7/dist-packages (from pandas-datareader) (2.23.0)\n",
            "Requirement already satisfied: lxml in /usr/local/lib/python3.7/dist-packages (from pandas-datareader) (4.9.1)\n",
            "Requirement already satisfied: pytz>=2017.3 in /usr/local/lib/python3.7/dist-packages (from pandas>=0.23->pandas-datareader) (2022.2.1)\n",
            "Requirement already satisfied: numpy>=1.17.3 in /usr/local/lib/python3.7/dist-packages (from pandas>=0.23->pandas-datareader) (1.21.6)\n",
            "Requirement already satisfied: python-dateutil>=2.7.3 in /usr/local/lib/python3.7/dist-packages (from pandas>=0.23->pandas-datareader) (2.8.2)\n",
            "Requirement already satisfied: six>=1.5 in /usr/local/lib/python3.7/dist-packages (from python-dateutil>=2.7.3->pandas>=0.23->pandas-datareader) (1.15.0)\n",
            "Requirement already satisfied: certifi>=2017.4.17 in /usr/local/lib/python3.7/dist-packages (from requests>=2.19.0->pandas-datareader) (2022.6.15)\n",
            "Requirement already satisfied: urllib3!=1.25.0,!=1.25.1,<1.26,>=1.21.1 in /usr/local/lib/python3.7/dist-packages (from requests>=2.19.0->pandas-datareader) (1.24.3)\n",
            "Requirement already satisfied: idna<3,>=2.5 in /usr/local/lib/python3.7/dist-packages (from requests>=2.19.0->pandas-datareader) (2.10)\n",
            "Requirement already satisfied: chardet<4,>=3.0.2 in /usr/local/lib/python3.7/dist-packages (from requests>=2.19.0->pandas-datareader) (3.0.4)\n"
          ]
        }
      ]
    },
    {
      "cell_type": "markdown",
      "source": [
        "# STEP 1"
      ],
      "metadata": {
        "id": "0T89nPJLBqVi"
      }
    },
    {
      "cell_type": "code",
      "source": [
        "#Import data\n",
        "df_tesla=pdr.get_data_yahoo('TSLA')"
      ],
      "metadata": {
        "id": "T-p2fyLBc8U1"
      },
      "execution_count": 8,
      "outputs": []
    },
    {
      "cell_type": "code",
      "source": [
        "type(df_tesla)"
      ],
      "metadata": {
        "colab": {
          "base_uri": "https://localhost:8080/"
        },
        "id": "dYodvI93dL2D",
        "outputId": "b278de5b-df7a-4e6b-a1b8-bdfeb66998aa"
      },
      "execution_count": 5,
      "outputs": [
        {
          "output_type": "execute_result",
          "data": {
            "text/plain": [
              "pandas.core.frame.DataFrame"
            ]
          },
          "metadata": {},
          "execution_count": 5
        }
      ]
    },
    {
      "cell_type": "code",
      "source": [
        "df_tesla.tail()"
      ],
      "metadata": {
        "colab": {
          "base_uri": "https://localhost:8080/",
          "height": 238
        },
        "id": "LEbX-ORVboQj",
        "outputId": "f346d748-cd73-4d35-82c6-83e3a448227a"
      },
      "execution_count": 6,
      "outputs": [
        {
          "output_type": "execute_result",
          "data": {
            "text/plain": [
              "                  High         Low        Open       Close      Volume  \\\n",
              "Date                                                                     \n",
              "2022-08-15  939.400024  903.690002  905.359985  927.960022  29786400.0   \n",
              "2022-08-16  944.000000  908.650024  935.000000  919.690002  29378800.0   \n",
              "2022-08-17  928.969971  900.099976  910.190002  911.989990  22922000.0   \n",
              "2022-08-18  919.500000  905.559998  918.000000  908.609985  15833500.0   \n",
              "2022-08-19  901.080017  877.500000  897.000000  890.000000  20417900.0   \n",
              "\n",
              "             Adj Close  \n",
              "Date                    \n",
              "2022-08-15  927.960022  \n",
              "2022-08-16  919.690002  \n",
              "2022-08-17  911.989990  \n",
              "2022-08-18  908.609985  \n",
              "2022-08-19  890.000000  "
            ],
            "text/html": [
              "\n",
              "  <div id=\"df-159025c1-883a-492a-9c65-03f152bce17d\">\n",
              "    <div class=\"colab-df-container\">\n",
              "      <div>\n",
              "<style scoped>\n",
              "    .dataframe tbody tr th:only-of-type {\n",
              "        vertical-align: middle;\n",
              "    }\n",
              "\n",
              "    .dataframe tbody tr th {\n",
              "        vertical-align: top;\n",
              "    }\n",
              "\n",
              "    .dataframe thead th {\n",
              "        text-align: right;\n",
              "    }\n",
              "</style>\n",
              "<table border=\"1\" class=\"dataframe\">\n",
              "  <thead>\n",
              "    <tr style=\"text-align: right;\">\n",
              "      <th></th>\n",
              "      <th>High</th>\n",
              "      <th>Low</th>\n",
              "      <th>Open</th>\n",
              "      <th>Close</th>\n",
              "      <th>Volume</th>\n",
              "      <th>Adj Close</th>\n",
              "    </tr>\n",
              "    <tr>\n",
              "      <th>Date</th>\n",
              "      <th></th>\n",
              "      <th></th>\n",
              "      <th></th>\n",
              "      <th></th>\n",
              "      <th></th>\n",
              "      <th></th>\n",
              "    </tr>\n",
              "  </thead>\n",
              "  <tbody>\n",
              "    <tr>\n",
              "      <th>2022-08-15</th>\n",
              "      <td>939.400024</td>\n",
              "      <td>903.690002</td>\n",
              "      <td>905.359985</td>\n",
              "      <td>927.960022</td>\n",
              "      <td>29786400.0</td>\n",
              "      <td>927.960022</td>\n",
              "    </tr>\n",
              "    <tr>\n",
              "      <th>2022-08-16</th>\n",
              "      <td>944.000000</td>\n",
              "      <td>908.650024</td>\n",
              "      <td>935.000000</td>\n",
              "      <td>919.690002</td>\n",
              "      <td>29378800.0</td>\n",
              "      <td>919.690002</td>\n",
              "    </tr>\n",
              "    <tr>\n",
              "      <th>2022-08-17</th>\n",
              "      <td>928.969971</td>\n",
              "      <td>900.099976</td>\n",
              "      <td>910.190002</td>\n",
              "      <td>911.989990</td>\n",
              "      <td>22922000.0</td>\n",
              "      <td>911.989990</td>\n",
              "    </tr>\n",
              "    <tr>\n",
              "      <th>2022-08-18</th>\n",
              "      <td>919.500000</td>\n",
              "      <td>905.559998</td>\n",
              "      <td>918.000000</td>\n",
              "      <td>908.609985</td>\n",
              "      <td>15833500.0</td>\n",
              "      <td>908.609985</td>\n",
              "    </tr>\n",
              "    <tr>\n",
              "      <th>2022-08-19</th>\n",
              "      <td>901.080017</td>\n",
              "      <td>877.500000</td>\n",
              "      <td>897.000000</td>\n",
              "      <td>890.000000</td>\n",
              "      <td>20417900.0</td>\n",
              "      <td>890.000000</td>\n",
              "    </tr>\n",
              "  </tbody>\n",
              "</table>\n",
              "</div>\n",
              "      <button class=\"colab-df-convert\" onclick=\"convertToInteractive('df-159025c1-883a-492a-9c65-03f152bce17d')\"\n",
              "              title=\"Convert this dataframe to an interactive table.\"\n",
              "              style=\"display:none;\">\n",
              "        \n",
              "  <svg xmlns=\"http://www.w3.org/2000/svg\" height=\"24px\"viewBox=\"0 0 24 24\"\n",
              "       width=\"24px\">\n",
              "    <path d=\"M0 0h24v24H0V0z\" fill=\"none\"/>\n",
              "    <path d=\"M18.56 5.44l.94 2.06.94-2.06 2.06-.94-2.06-.94-.94-2.06-.94 2.06-2.06.94zm-11 1L8.5 8.5l.94-2.06 2.06-.94-2.06-.94L8.5 2.5l-.94 2.06-2.06.94zm10 10l.94 2.06.94-2.06 2.06-.94-2.06-.94-.94-2.06-.94 2.06-2.06.94z\"/><path d=\"M17.41 7.96l-1.37-1.37c-.4-.4-.92-.59-1.43-.59-.52 0-1.04.2-1.43.59L10.3 9.45l-7.72 7.72c-.78.78-.78 2.05 0 2.83L4 21.41c.39.39.9.59 1.41.59.51 0 1.02-.2 1.41-.59l7.78-7.78 2.81-2.81c.8-.78.8-2.07 0-2.86zM5.41 20L4 18.59l7.72-7.72 1.47 1.35L5.41 20z\"/>\n",
              "  </svg>\n",
              "      </button>\n",
              "      \n",
              "  <style>\n",
              "    .colab-df-container {\n",
              "      display:flex;\n",
              "      flex-wrap:wrap;\n",
              "      gap: 12px;\n",
              "    }\n",
              "\n",
              "    .colab-df-convert {\n",
              "      background-color: #E8F0FE;\n",
              "      border: none;\n",
              "      border-radius: 50%;\n",
              "      cursor: pointer;\n",
              "      display: none;\n",
              "      fill: #1967D2;\n",
              "      height: 32px;\n",
              "      padding: 0 0 0 0;\n",
              "      width: 32px;\n",
              "    }\n",
              "\n",
              "    .colab-df-convert:hover {\n",
              "      background-color: #E2EBFA;\n",
              "      box-shadow: 0px 1px 2px rgba(60, 64, 67, 0.3), 0px 1px 3px 1px rgba(60, 64, 67, 0.15);\n",
              "      fill: #174EA6;\n",
              "    }\n",
              "\n",
              "    [theme=dark] .colab-df-convert {\n",
              "      background-color: #3B4455;\n",
              "      fill: #D2E3FC;\n",
              "    }\n",
              "\n",
              "    [theme=dark] .colab-df-convert:hover {\n",
              "      background-color: #434B5C;\n",
              "      box-shadow: 0px 1px 3px 1px rgba(0, 0, 0, 0.15);\n",
              "      filter: drop-shadow(0px 1px 2px rgba(0, 0, 0, 0.3));\n",
              "      fill: #FFFFFF;\n",
              "    }\n",
              "  </style>\n",
              "\n",
              "      <script>\n",
              "        const buttonEl =\n",
              "          document.querySelector('#df-159025c1-883a-492a-9c65-03f152bce17d button.colab-df-convert');\n",
              "        buttonEl.style.display =\n",
              "          google.colab.kernel.accessAllowed ? 'block' : 'none';\n",
              "\n",
              "        async function convertToInteractive(key) {\n",
              "          const element = document.querySelector('#df-159025c1-883a-492a-9c65-03f152bce17d');\n",
              "          const dataTable =\n",
              "            await google.colab.kernel.invokeFunction('convertToInteractive',\n",
              "                                                     [key], {});\n",
              "          if (!dataTable) return;\n",
              "\n",
              "          const docLinkHtml = 'Like what you see? Visit the ' +\n",
              "            '<a target=\"_blank\" href=https://colab.research.google.com/notebooks/data_table.ipynb>data table notebook</a>'\n",
              "            + ' to learn more about interactive tables.';\n",
              "          element.innerHTML = '';\n",
              "          dataTable['output_type'] = 'display_data';\n",
              "          await google.colab.output.renderOutput(dataTable, element);\n",
              "          const docLink = document.createElement('div');\n",
              "          docLink.innerHTML = docLinkHtml;\n",
              "          element.appendChild(docLink);\n",
              "        }\n",
              "      </script>\n",
              "    </div>\n",
              "  </div>\n",
              "  "
            ]
          },
          "metadata": {},
          "execution_count": 6
        }
      ]
    },
    {
      "cell_type": "markdown",
      "source": [
        "# STEP 2"
      ],
      "metadata": {
        "id": "oWtuY2hlBvvU"
      }
    },
    {
      "cell_type": "code",
      "source": [
        "df_tesla.plot()"
      ],
      "metadata": {
        "colab": {
          "base_uri": "https://localhost:8080/",
          "height": 0
        },
        "id": "QDs5UYpabsnx",
        "outputId": "1783040f-ae0f-4ad8-a6d7-48b598ce19c4"
      },
      "execution_count": 9,
      "outputs": [
        {
          "output_type": "execute_result",
          "data": {
            "text/plain": [
              "<matplotlib.axes._subplots.AxesSubplot at 0x7f9023b39e90>"
            ]
          },
          "metadata": {},
          "execution_count": 9
        },
        {
          "output_type": "display_data",
          "data": {
            "text/plain": [
              "<Figure size 432x288 with 1 Axes>"
            ],
            "image/png": "[encoded data removed]"
          },
          "metadata": {
            "needs_background": "light"
          }
        }
      ]
    },
    {
      "cell_type": "code",
      "source": [
        "df_tesla[\"High\"].plot(figsize=(12,4))"
      ],
      "metadata": {
        "colab": {
          "base_uri": "https://localhost:8080/",
          "height": 0
        },
        "id": "geNsV6PccDoi",
        "outputId": "16253fc3-f760-4296-d1eb-e5dcf52c3def"
      },
      "execution_count": 10,
      "outputs": [
        {
          "output_type": "execute_result",
          "data": {
            "text/plain": [
              "<matplotlib.axes._subplots.AxesSubplot at 0x7f902331fe90>"
            ]
          },
          "metadata": {},
          "execution_count": 10
        },
        {
          "output_type": "display_data",
          "data": {
            "text/plain": [
              "<Figure size 864x288 with 1 Axes>"
            ],
            "image/png": "[encoded data removed]"
          },
          "metadata": {
            "needs_background": "light"
          }
        }
      ]
    },
    {
      "cell_type": "code",
      "source": [
        "\n",
        "## xlimit and y limit\n",
        "df_tesla['High'].plot(xlim=['2020-01-01','2021-09-01'],figsize=(12,4))"
      ],
      "metadata": {
        "id": "dq1B03vZcV7l",
        "colab": {
          "base_uri": "https://localhost:8080/",
          "height": 0
        },
        "outputId": "e7fa6733-5be0-45c7-b7ea-90840525575a"
      },
      "execution_count": 11,
      "outputs": [
        {
          "output_type": "execute_result",
          "data": {
            "text/plain": [
              "<matplotlib.axes._subplots.AxesSubplot at 0x7f90239e1750>"
            ]
          },
          "metadata": {},
          "execution_count": 11
        },
        {
          "output_type": "display_data",
          "data": {
            "text/plain": [
              "<Figure size 864x288 with 1 Axes>"
            ],
            "image/png": "[encoded data removed]"
          },
          "metadata": {
            "needs_background": "light"
          }
        }
      ]
    },
    {
      "cell_type": "code",
      "source": [
        "## xlimit and y limit and coloring\n",
        "df_tesla['High'].plot(xlim=['2020-01-01','2021-09-01'],ylim=[0,900],figsize=(12,4),ls='--',c='green')"
      ],
      "metadata": {
        "colab": {
          "base_uri": "https://localhost:8080/",
          "height": 0
        },
        "id": "ofvddJZuGsHe",
        "outputId": "4337fc6e-ed63-4f43-a322-85b7d00aebfb"
      },
      "execution_count": 12,
      "outputs": [
        {
          "output_type": "execute_result",
          "data": {
            "text/plain": [
              "<matplotlib.axes._subplots.AxesSubplot at 0x7f9023451bd0>"
            ]
          },
          "metadata": {},
          "execution_count": 12
        },
        {
          "output_type": "display_data",
          "data": {
            "text/plain": [
              "<Figure size 864x288 with 1 Axes>"
            ],
            "image/png": "[encoded data removed]"
          },
          "metadata": {
            "needs_background": "light"
          }
        }
      ]
    },
    {
      "cell_type": "code",
      "source": [
        "df_tesla.head(4)"
      ],
      "metadata": {
        "colab": {
          "base_uri": "https://localhost:8080/",
          "height": 0
        },
        "id": "C3wBHvp6HGRx",
        "outputId": "5a840f06-e31e-46a4-c967-e11bf8204982"
      },
      "execution_count": 13,
      "outputs": [
        {
          "output_type": "execute_result",
          "data": {
            "text/plain": [
              "                 High        Low       Open      Close      Volume  Adj Close\n",
              "Date                                                                         \n",
              "2017-08-21  69.164001  66.370003  69.164001  67.571999  32477000.0  67.571999\n",
              "2017-08-22  68.447998  67.473999  68.225998  68.269997  21610000.0  68.269997\n",
              "2017-08-23  70.697998  67.660004  67.797997  70.554001  24772500.0  70.554001\n",
              "2017-08-24  71.332001  69.947998  70.503998  70.585999  22923500.0  70.585999"
            ],
            "text/html": [
              "\n",
              "  <div id=\"df-b602f7f1-bd55-400c-b257-2e58049472e7\">\n",
              "    <div class=\"colab-df-container\">\n",
              "      <div>\n",
              "<style scoped>\n",
              "    .dataframe tbody tr th:only-of-type {\n",
              "        vertical-align: middle;\n",
              "    }\n",
              "\n",
              "    .dataframe tbody tr th {\n",
              "        vertical-align: top;\n",
              "    }\n",
              "\n",
              "    .dataframe thead th {\n",
              "        text-align: right;\n",
              "    }\n",
              "</style>\n",
              "<table border=\"1\" class=\"dataframe\">\n",
              "  <thead>\n",
              "    <tr style=\"text-align: right;\">\n",
              "      <th></th>\n",
              "      <th>High</th>\n",
              "      <th>Low</th>\n",
              "      <th>Open</th>\n",
              "      <th>Close</th>\n",
              "      <th>Volume</th>\n",
              "      <th>Adj Close</th>\n",
              "    </tr>\n",
              "    <tr>\n",
              "      <th>Date</th>\n",
              "      <th></th>\n",
              "      <th></th>\n",
              "      <th></th>\n",
              "      <th></th>\n",
              "      <th></th>\n",
              "      <th></th>\n",
              "    </tr>\n",
              "  </thead>\n",
              "  <tbody>\n",
              "    <tr>\n",
              "      <th>2017-08-21</th>\n",
              "      <td>69.164001</td>\n",
              "      <td>66.370003</td>\n",
              "      <td>69.164001</td>\n",
              "      <td>67.571999</td>\n",
              "      <td>32477000.0</td>\n",
              "      <td>67.571999</td>\n",
              "    </tr>\n",
              "    <tr>\n",
              "      <th>2017-08-22</th>\n",
              "      <td>68.447998</td>\n",
              "      <td>67.473999</td>\n",
              "      <td>68.225998</td>\n",
              "      <td>68.269997</td>\n",
              "      <td>21610000.0</td>\n",
              "      <td>68.269997</td>\n",
              "    </tr>\n",
              "    <tr>\n",
              "      <th>2017-08-23</th>\n",
              "      <td>70.697998</td>\n",
              "      <td>67.660004</td>\n",
              "      <td>67.797997</td>\n",
              "      <td>70.554001</td>\n",
              "      <td>24772500.0</td>\n",
              "      <td>70.554001</td>\n",
              "    </tr>\n",
              "    <tr>\n",
              "      <th>2017-08-24</th>\n",
              "      <td>71.332001</td>\n",
              "      <td>69.947998</td>\n",
              "      <td>70.503998</td>\n",
              "      <td>70.585999</td>\n",
              "      <td>22923500.0</td>\n",
              "      <td>70.585999</td>\n",
              "    </tr>\n",
              "  </tbody>\n",
              "</table>\n",
              "</div>\n",
              "      <button class=\"colab-df-convert\" onclick=\"convertToInteractive('df-b602f7f1-bd55-400c-b257-2e58049472e7')\"\n",
              "              title=\"Convert this dataframe to an interactive table.\"\n",
              "              style=\"display:none;\">\n",
              "        \n",
              "  <svg xmlns=\"http://www.w3.org/2000/svg\" height=\"24px\"viewBox=\"0 0 24 24\"\n",
              "       width=\"24px\">\n",
              "    <path d=\"M0 0h24v24H0V0z\" fill=\"none\"/>\n",
              "    <path d=\"M18.56 5.44l.94 2.06.94-2.06 2.06-.94-2.06-.94-.94-2.06-.94 2.06-2.06.94zm-11 1L8.5 8.5l.94-2.06 2.06-.94-2.06-.94L8.5 2.5l-.94 2.06-2.06.94zm10 10l.94 2.06.94-2.06 2.06-.94-2.06-.94-.94-2.06-.94 2.06-2.06.94z\"/><path d=\"M17.41 7.96l-1.37-1.37c-.4-.4-.92-.59-1.43-.59-.52 0-1.04.2-1.43.59L10.3 9.45l-7.72 7.72c-.78.78-.78 2.05 0 2.83L4 21.41c.39.39.9.59 1.41.59.51 0 1.02-.2 1.41-.59l7.78-7.78 2.81-2.81c.8-.78.8-2.07 0-2.86zM5.41 20L4 18.59l7.72-7.72 1.47 1.35L5.41 20z\"/>\n",
              "  </svg>\n",
              "      </button>\n",
              "      \n",
              "  <style>\n",
              "    .colab-df-container {\n",
              "      display:flex;\n",
              "      flex-wrap:wrap;\n",
              "      gap: 12px;\n",
              "    }\n",
              "\n",
              "    .colab-df-convert {\n",
              "      background-color: #E8F0FE;\n",
              "      border: none;\n",
              "      border-radius: 50%;\n",
              "      cursor: pointer;\n",
              "      display: none;\n",
              "      fill: #1967D2;\n",
              "      height: 32px;\n",
              "      padding: 0 0 0 0;\n",
              "      width: 32px;\n",
              "    }\n",
              "\n",
              "    .colab-df-convert:hover {\n",
              "      background-color: #E2EBFA;\n",
              "      box-shadow: 0px 1px 2px rgba(60, 64, 67, 0.3), 0px 1px 3px 1px rgba(60, 64, 67, 0.15);\n",
              "      fill: #174EA6;\n",
              "    }\n",
              "\n",
              "    [theme=dark] .colab-df-convert {\n",
              "      background-color: #3B4455;\n",
              "      fill: #D2E3FC;\n",
              "    }\n",
              "\n",
              "    [theme=dark] .colab-df-convert:hover {\n",
              "      background-color: #434B5C;\n",
              "      box-shadow: 0px 1px 3px 1px rgba(0, 0, 0, 0.15);\n",
              "      filter: drop-shadow(0px 1px 2px rgba(0, 0, 0, 0.3));\n",
              "      fill: #FFFFFF;\n",
              "    }\n",
              "  </style>\n",
              "\n",
              "      <script>\n",
              "        const buttonEl =\n",
              "          document.querySelector('#df-b602f7f1-bd55-400c-b257-2e58049472e7 button.colab-df-convert');\n",
              "        buttonEl.style.display =\n",
              "          google.colab.kernel.accessAllowed ? 'block' : 'none';\n",
              "\n",
              "        async function convertToInteractive(key) {\n",
              "          const element = document.querySelector('#df-b602f7f1-bd55-400c-b257-2e58049472e7');\n",
              "          const dataTable =\n",
              "            await google.colab.kernel.invokeFunction('convertToInteractive',\n",
              "                                                     [key], {});\n",
              "          if (!dataTable) return;\n",
              "\n",
              "          const docLinkHtml = 'Like what you see? Visit the ' +\n",
              "            '<a target=\"_blank\" href=https://colab.research.google.com/notebooks/data_table.ipynb>data table notebook</a>'\n",
              "            + ' to learn more about interactive tables.';\n",
              "          element.innerHTML = '';\n",
              "          dataTable['output_type'] = 'display_data';\n",
              "          await google.colab.output.renderOutput(dataTable, element);\n",
              "          const docLink = document.createElement('div');\n",
              "          docLink.innerHTML = docLinkHtml;\n",
              "          element.appendChild(docLink);\n",
              "        }\n",
              "      </script>\n",
              "    </div>\n",
              "  </div>\n",
              "  "
            ]
          },
          "metadata": {},
          "execution_count": 13
        }
      ]
    },
    {
      "cell_type": "markdown",
      "source": [
        "# STEP3: Setting index"
      ],
      "metadata": {
        "id": "JkGQnaLJB3G5"
      }
    },
    {
      "cell_type": "code",
      "source": [
        "df_tesla.index"
      ],
      "metadata": {
        "colab": {
          "base_uri": "https://localhost:8080/"
        },
        "id": "KffUYSmrHwrU",
        "outputId": "77faf2cf-07a6-4d1f-a14d-d999b3c52d1d"
      },
      "execution_count": 14,
      "outputs": [
        {
          "output_type": "execute_result",
          "data": {
            "text/plain": [
              "DatetimeIndex(['2017-08-21', '2017-08-22', '2017-08-23', '2017-08-24',\n",
              "               '2017-08-25', '2017-08-28', '2017-08-29', '2017-08-30',\n",
              "               '2017-08-31', '2017-09-01',\n",
              "               ...\n",
              "               '2022-08-08', '2022-08-09', '2022-08-10', '2022-08-11',\n",
              "               '2022-08-12', '2022-08-15', '2022-08-16', '2022-08-17',\n",
              "               '2022-08-18', '2022-08-19'],\n",
              "              dtype='datetime64[ns]', name='Date', length=1259, freq=None)"
            ]
          },
          "metadata": {},
          "execution_count": 14
        }
      ]
    },
    {
      "cell_type": "code",
      "source": [
        "df_tesla=df_tesla.reset_index()"
      ],
      "metadata": {
        "id": "9bSQJ_WfH-90"
      },
      "execution_count": 15,
      "outputs": []
    },
    {
      "cell_type": "code",
      "source": [
        "df_tesla.index"
      ],
      "metadata": {
        "colab": {
          "base_uri": "https://localhost:8080/"
        },
        "id": "HUrswT1nJ9WQ",
        "outputId": "7f224020-0794-4abe-d670-4f17beff75a3"
      },
      "execution_count": 16,
      "outputs": [
        {
          "output_type": "execute_result",
          "data": {
            "text/plain": [
              "RangeIndex(start=0, stop=1259, step=1)"
            ]
          },
          "metadata": {},
          "execution_count": 16
        }
      ]
    },
    {
      "cell_type": "code",
      "source": [
        "df_tesla.info()"
      ],
      "metadata": {
        "colab": {
          "base_uri": "https://localhost:8080/"
        },
        "id": "CcN0JiJrIDsF",
        "outputId": "0c811655-3c96-4f35-9c48-be2de057c7e5"
      },
      "execution_count": 17,
      "outputs": [
        {
          "output_type": "stream",
          "name": "stdout",
          "text": [
            "<class 'pandas.core.frame.DataFrame'>\n",
            "RangeIndex: 1259 entries, 0 to 1258\n",
            "Data columns (total 7 columns):\n",
            " #   Column     Non-Null Count  Dtype         \n",
            "---  ------     --------------  -----         \n",
            " 0   Date       1259 non-null   datetime64[ns]\n",
            " 1   High       1259 non-null   float64       \n",
            " 2   Low        1259 non-null   float64       \n",
            " 3   Open       1259 non-null   float64       \n",
            " 4   Close      1259 non-null   float64       \n",
            " 5   Volume     1259 non-null   float64       \n",
            " 6   Adj Close  1259 non-null   float64       \n",
            "dtypes: datetime64[ns](1), float64(6)\n",
            "memory usage: 69.0 KB\n"
          ]
        }
      ]
    },
    {
      "cell_type": "code",
      "source": [
        "#Set Datime as index\n",
        "df_tesla=df_tesla.set_index('Date',drop=True)"
      ],
      "metadata": {
        "id": "WkA7zJAZKSJ3"
      },
      "execution_count": 18,
      "outputs": []
    },
    {
      "cell_type": "code",
      "source": [
        "df_tesla.info()"
      ],
      "metadata": {
        "colab": {
          "base_uri": "https://localhost:8080/"
        },
        "id": "AYpIo7wjKWNW",
        "outputId": "b2ce8ed3-5fae-4bc4-d199-ba8b2c8145b6"
      },
      "execution_count": 19,
      "outputs": [
        {
          "output_type": "stream",
          "name": "stdout",
          "text": [
            "<class 'pandas.core.frame.DataFrame'>\n",
            "DatetimeIndex: 1259 entries, 2017-08-21 to 2022-08-19\n",
            "Data columns (total 6 columns):\n",
            " #   Column     Non-Null Count  Dtype  \n",
            "---  ------     --------------  -----  \n",
            " 0   High       1259 non-null   float64\n",
            " 1   Low        1259 non-null   float64\n",
            " 2   Open       1259 non-null   float64\n",
            " 3   Close      1259 non-null   float64\n",
            " 4   Volume     1259 non-null   float64\n",
            " 5   Adj Close  1259 non-null   float64\n",
            "dtypes: float64(6)\n",
            "memory usage: 68.9 KB\n"
          ]
        }
      ]
    },
    {
      "cell_type": "code",
      "source": [
        "index=df_tesla.loc['2020-01-01':'2021-09-01'].index\n",
        "share_open=df_tesla.loc['2020-01-01':'2021-09-01']['Open']"
      ],
      "metadata": {
        "id": "o6gJ0ZG7IAdF"
      },
      "execution_count": 20,
      "outputs": []
    },
    {
      "cell_type": "code",
      "source": [
        "import matplotlib.pyplot as plt\n",
        "%matplotlib inline\n",
        "figure,axis=plt.subplots()\n",
        "plt.tight_layout()\n",
        "## Preventing overlapping\n",
        "figure.autofmt_xdate()\n",
        "axis.plot(index,share_open)"
      ],
      "metadata": {
        "colab": {
          "base_uri": "https://localhost:8080/",
          "height": 300
        },
        "id": "TVv8p3AbJBNP",
        "outputId": "275cdc64-79e7-47d5-d88e-a0c311f5c190"
      },
      "execution_count": 21,
      "outputs": [
        {
          "output_type": "execute_result",
          "data": {
            "text/plain": [
              "[<matplotlib.lines.Line2D at 0x7f9023ac6290>]"
            ]
          },
          "metadata": {},
          "execution_count": 21
        },
        {
          "output_type": "display_data",
          "data": {
            "text/plain": [
              "<Figure size 432x288 with 1 Axes>"
            ],
            "image/png": "[encoded data removed]"
          },
          "metadata": {
            "needs_background": "light"
          }
        }
      ]
    },
    {
      "cell_type": "code",
      "source": [
        "share_open.plot(figsize=(12,4))"
      ],
      "metadata": {
        "colab": {
          "base_uri": "https://localhost:8080/",
          "height": 294
        },
        "id": "g_ROItYoKaIM",
        "outputId": "057c7bbb-19c4-4840-8c57-460e2e91624e"
      },
      "execution_count": 22,
      "outputs": [
        {
          "output_type": "execute_result",
          "data": {
            "text/plain": [
              "<matplotlib.axes._subplots.AxesSubplot at 0x7f902337f950>"
            ]
          },
          "metadata": {},
          "execution_count": 22
        },
        {
          "output_type": "display_data",
          "data": {
            "text/plain": [
              "<Figure size 864x288 with 1 Axes>"
            ],
            "image/png": "[encoded data removed]"
          },
          "metadata": {
            "needs_background": "light"
          }
        }
      ]
    },
    {
      "cell_type": "markdown",
      "source": [
        "# STEP 4: Datetime library"
      ],
      "metadata": {
        "id": "oIgU851YDNou"
      }
    },
    {
      "cell_type": "code",
      "source": [
        "\n",
        "## datetime\n",
        "from datetime import datetime"
      ],
      "metadata": {
        "id": "lIVllFhYKy6F"
      },
      "execution_count": 23,
      "outputs": []
    },
    {
      "cell_type": "code",
      "source": [
        "datetime(2021,11,21)"
      ],
      "metadata": {
        "colab": {
          "base_uri": "https://localhost:8080/"
        },
        "id": "MV0ge8_aDVts",
        "outputId": "bc49311a-66ea-4898-9ab7-046d591f4b9c"
      },
      "execution_count": 24,
      "outputs": [
        {
          "output_type": "execute_result",
          "data": {
            "text/plain": [
              "datetime.datetime(2021, 11, 21, 0, 0)"
            ]
          },
          "metadata": {},
          "execution_count": 24
        }
      ]
    },
    {
      "cell_type": "code",
      "source": [
        "date=datetime.now()"
      ],
      "metadata": {
        "id": "GFryn9y8DW6M"
      },
      "execution_count": 27,
      "outputs": []
    },
    {
      "cell_type": "code",
      "source": [
        "date=datetime(2021,11,21)"
      ],
      "metadata": {
        "id": "C7uPMNwEDfQC"
      },
      "execution_count": 26,
      "outputs": []
    },
    {
      "cell_type": "code",
      "source": [
        "type(date)"
      ],
      "metadata": {
        "colab": {
          "base_uri": "https://localhost:8080/"
        },
        "id": "wobvB1P2Dj2w",
        "outputId": "2212bbb3-42e3-4581-fc64-e8dfb9c5af6a"
      },
      "execution_count": 33,
      "outputs": [
        {
          "output_type": "execute_result",
          "data": {
            "text/plain": [
              "datetime.datetime"
            ]
          },
          "metadata": {},
          "execution_count": 33
        }
      ]
    },
    {
      "cell_type": "code",
      "source": [
        "date.day"
      ],
      "metadata": {
        "colab": {
          "base_uri": "https://localhost:8080/"
        },
        "id": "56lAnvXbDqAX",
        "outputId": "ef27c7e5-27c6-4b1e-9ffa-3d07af670fa2"
      },
      "execution_count": 29,
      "outputs": [
        {
          "output_type": "execute_result",
          "data": {
            "text/plain": [
              "20"
            ]
          },
          "metadata": {},
          "execution_count": 29
        }
      ]
    },
    {
      "cell_type": "code",
      "source": [
        "date.weekday()"
      ],
      "metadata": {
        "colab": {
          "base_uri": "https://localhost:8080/"
        },
        "id": "ems31Kl1DszN",
        "outputId": "4e25e7d0-4684-4007-d61c-46fd3ef44d38"
      },
      "execution_count": 34,
      "outputs": [
        {
          "output_type": "execute_result",
          "data": {
            "text/plain": [
              "5"
            ]
          },
          "metadata": {},
          "execution_count": 34
        }
      ]
    },
    {
      "cell_type": "code",
      "source": [
        "date.year"
      ],
      "metadata": {
        "colab": {
          "base_uri": "https://localhost:8080/"
        },
        "id": "p4BjEKkmDupu",
        "outputId": "3a880096-6b2d-4846-80b1-d7324ce18222"
      },
      "execution_count": 32,
      "outputs": [
        {
          "output_type": "execute_result",
          "data": {
            "text/plain": [
              "2022"
            ]
          },
          "metadata": {},
          "execution_count": 32
        }
      ]
    },
    {
      "cell_type": "code",
      "source": [
        "date.month"
      ],
      "metadata": {
        "colab": {
          "base_uri": "https://localhost:8080/"
        },
        "id": "zn7z8ExaDwO6",
        "outputId": "175d6ed1-32c6-42b6-ddf5-dee98ef87425"
      },
      "execution_count": 35,
      "outputs": [
        {
          "output_type": "execute_result",
          "data": {
            "text/plain": [
              "8"
            ]
          },
          "metadata": {},
          "execution_count": 35
        }
      ]
    },
    {
      "cell_type": "markdown",
      "source": [
        "# STEP 5:Time resample"
      ],
      "metadata": {
        "id": "WK6COsTTF4dr"
      }
    },
    {
      "cell_type": "code",
      "source": [
        "df_tesla.head()\n"
      ],
      "metadata": {
        "colab": {
          "base_uri": "https://localhost:8080/",
          "height": 238
        },
        "id": "_wv7QAfHF3OO",
        "outputId": "ece994f6-dedf-4241-beb7-8c45e05eceda"
      },
      "execution_count": 36,
      "outputs": [
        {
          "output_type": "execute_result",
          "data": {
            "text/plain": [
              "                 High        Low       Open      Close      Volume  Adj Close\n",
              "Date                                                                         \n",
              "2017-08-21  69.164001  66.370003  69.164001  67.571999  32477000.0  67.571999\n",
              "2017-08-22  68.447998  67.473999  68.225998  68.269997  21610000.0  68.269997\n",
              "2017-08-23  70.697998  67.660004  67.797997  70.554001  24772500.0  70.554001\n",
              "2017-08-24  71.332001  69.947998  70.503998  70.585999  22923500.0  70.585999\n",
              "2017-08-25  71.138000  69.459999  70.848000  69.610001  17420000.0  69.610001"
            ],
            "text/html": [
              "\n",
              "  <div id=\"df-22f76a0a-8701-4e7e-954a-e9d4b6232aba\">\n",
              "    <div class=\"colab-df-container\">\n",
              "      <div>\n",
              "<style scoped>\n",
              "    .dataframe tbody tr th:only-of-type {\n",
              "        vertical-align: middle;\n",
              "    }\n",
              "\n",
              "    .dataframe tbody tr th {\n",
              "        vertical-align: top;\n",
              "    }\n",
              "\n",
              "    .dataframe thead th {\n",
              "        text-align: right;\n",
              "    }\n",
              "</style>\n",
              "<table border=\"1\" class=\"dataframe\">\n",
              "  <thead>\n",
              "    <tr style=\"text-align: right;\">\n",
              "      <th></th>\n",
              "      <th>High</th>\n",
              "      <th>Low</th>\n",
              "      <th>Open</th>\n",
              "      <th>Close</th>\n",
              "      <th>Volume</th>\n",
              "      <th>Adj Close</th>\n",
              "    </tr>\n",
              "    <tr>\n",
              "      <th>Date</th>\n",
              "      <th></th>\n",
              "      <th></th>\n",
              "      <th></th>\n",
              "      <th></th>\n",
              "      <th></th>\n",
              "      <th></th>\n",
              "    </tr>\n",
              "  </thead>\n",
              "  <tbody>\n",
              "    <tr>\n",
              "      <th>2017-08-21</th>\n",
              "      <td>69.164001</td>\n",
              "      <td>66.370003</td>\n",
              "      <td>69.164001</td>\n",
              "      <td>67.571999</td>\n",
              "      <td>32477000.0</td>\n",
              "      <td>67.571999</td>\n",
              "    </tr>\n",
              "    <tr>\n",
              "      <th>2017-08-22</th>\n",
              "      <td>68.447998</td>\n",
              "      <td>67.473999</td>\n",
              "      <td>68.225998</td>\n",
              "      <td>68.269997</td>\n",
              "      <td>21610000.0</td>\n",
              "      <td>68.269997</td>\n",
              "    </tr>\n",
              "    <tr>\n",
              "      <th>2017-08-23</th>\n",
              "      <td>70.697998</td>\n",
              "      <td>67.660004</td>\n",
              "      <td>67.797997</td>\n",
              "      <td>70.554001</td>\n",
              "      <td>24772500.0</td>\n",
              "      <td>70.554001</td>\n",
              "    </tr>\n",
              "    <tr>\n",
              "      <th>2017-08-24</th>\n",
              "      <td>71.332001</td>\n",
              "      <td>69.947998</td>\n",
              "      <td>70.503998</td>\n",
              "      <td>70.585999</td>\n",
              "      <td>22923500.0</td>\n",
              "      <td>70.585999</td>\n",
              "    </tr>\n",
              "    <tr>\n",
              "      <th>2017-08-25</th>\n",
              "      <td>71.138000</td>\n",
              "      <td>69.459999</td>\n",
              "      <td>70.848000</td>\n",
              "      <td>69.610001</td>\n",
              "      <td>17420000.0</td>\n",
              "      <td>69.610001</td>\n",
              "    </tr>\n",
              "  </tbody>\n",
              "</table>\n",
              "</div>\n",
              "      <button class=\"colab-df-convert\" onclick=\"convertToInteractive('df-22f76a0a-8701-4e7e-954a-e9d4b6232aba')\"\n",
              "              title=\"Convert this dataframe to an interactive table.\"\n",
              "              style=\"display:none;\">\n",
              "        \n",
              "  <svg xmlns=\"http://www.w3.org/2000/svg\" height=\"24px\"viewBox=\"0 0 24 24\"\n",
              "       width=\"24px\">\n",
              "    <path d=\"M0 0h24v24H0V0z\" fill=\"none\"/>\n",
              "    <path d=\"M18.56 5.44l.94 2.06.94-2.06 2.06-.94-2.06-.94-.94-2.06-.94 2.06-2.06.94zm-11 1L8.5 8.5l.94-2.06 2.06-.94-2.06-.94L8.5 2.5l-.94 2.06-2.06.94zm10 10l.94 2.06.94-2.06 2.06-.94-2.06-.94-.94-2.06-.94 2.06-2.06.94z\"/><path d=\"M17.41 7.96l-1.37-1.37c-.4-.4-.92-.59-1.43-.59-.52 0-1.04.2-1.43.59L10.3 9.45l-7.72 7.72c-.78.78-.78 2.05 0 2.83L4 21.41c.39.39.9.59 1.41.59.51 0 1.02-.2 1.41-.59l7.78-7.78 2.81-2.81c.8-.78.8-2.07 0-2.86zM5.41 20L4 18.59l7.72-7.72 1.47 1.35L5.41 20z\"/>\n",
              "  </svg>\n",
              "      </button>\n",
              "      \n",
              "  <style>\n",
              "    .colab-df-container {\n",
              "      display:flex;\n",
              "      flex-wrap:wrap;\n",
              "      gap: 12px;\n",
              "    }\n",
              "\n",
              "    .colab-df-convert {\n",
              "      background-color: #E8F0FE;\n",
              "      border: none;\n",
              "      border-radius: 50%;\n",
              "      cursor: pointer;\n",
              "      display: none;\n",
              "      fill: #1967D2;\n",
              "      height: 32px;\n",
              "      padding: 0 0 0 0;\n",
              "      width: 32px;\n",
              "    }\n",
              "\n",
              "    .colab-df-convert:hover {\n",
              "      background-color: #E2EBFA;\n",
              "      box-shadow: 0px 1px 2px rgba(60, 64, 67, 0.3), 0px 1px 3px 1px rgba(60, 64, 67, 0.15);\n",
              "      fill: #174EA6;\n",
              "    }\n",
              "\n",
              "    [theme=dark] .colab-df-convert {\n",
              "      background-color: #3B4455;\n",
              "      fill: #D2E3FC;\n",
              "    }\n",
              "\n",
              "    [theme=dark] .colab-df-convert:hover {\n",
              "      background-color: #434B5C;\n",
              "      box-shadow: 0px 1px 3px 1px rgba(0, 0, 0, 0.15);\n",
              "      filter: drop-shadow(0px 1px 2px rgba(0, 0, 0, 0.3));\n",
              "      fill: #FFFFFF;\n",
              "    }\n",
              "  </style>\n",
              "\n",
              "      <script>\n",
              "        const buttonEl =\n",
              "          document.querySelector('#df-22f76a0a-8701-4e7e-954a-e9d4b6232aba button.colab-df-convert');\n",
              "        buttonEl.style.display =\n",
              "          google.colab.kernel.accessAllowed ? 'block' : 'none';\n",
              "\n",
              "        async function convertToInteractive(key) {\n",
              "          const element = document.querySelector('#df-22f76a0a-8701-4e7e-954a-e9d4b6232aba');\n",
              "          const dataTable =\n",
              "            await google.colab.kernel.invokeFunction('convertToInteractive',\n",
              "                                                     [key], {});\n",
              "          if (!dataTable) return;\n",
              "\n",
              "          const docLinkHtml = 'Like what you see? Visit the ' +\n",
              "            '<a target=\"_blank\" href=https://colab.research.google.com/notebooks/data_table.ipynb>data table notebook</a>'\n",
              "            + ' to learn more about interactive tables.';\n",
              "          element.innerHTML = '';\n",
              "          dataTable['output_type'] = 'display_data';\n",
              "          await google.colab.output.renderOutput(dataTable, element);\n",
              "          const docLink = document.createElement('div');\n",
              "          docLink.innerHTML = docLinkHtml;\n",
              "          element.appendChild(docLink);\n",
              "        }\n",
              "      </script>\n",
              "    </div>\n",
              "  </div>\n",
              "  "
            ]
          },
          "metadata": {},
          "execution_count": 36
        }
      ]
    },
    {
      "cell_type": "markdown",
      "source": [
        "As noticed above is a daily data"
      ],
      "metadata": {
        "id": "U91RDITGJLQ9"
      }
    },
    {
      "cell_type": "code",
      "source": [
        "df_tesla.resample(rule='A').min()"
      ],
      "metadata": {
        "colab": {
          "base_uri": "https://localhost:8080/",
          "height": 269
        },
        "id": "gMzgPd4sJIlR",
        "outputId": "41f9aa06-a453-4cf6-d0d3-fbe3551690f0"
      },
      "execution_count": 37,
      "outputs": [
        {
          "output_type": "execute_result",
          "data": {
            "text/plain": [
              "                  High         Low        Open       Close      Volume  \\\n",
              "Date                                                                     \n",
              "2017-12-31   60.891998   58.526001   59.900002   59.852001  15247500.0   \n",
              "2018-12-31   52.066002   48.917999   50.556000   50.112000  15403500.0   \n",
              "2019-12-31   37.335999   35.397999   36.220001   35.793999  12328000.0   \n",
              "2020-12-31   80.972000   70.101997   74.940002   72.244003  17357700.0   \n",
              "2021-12-31  566.210022  539.489990  552.549988  563.000000   9800600.0   \n",
              "2022-12-31  653.919983  620.570007  623.849976  628.159973  15833500.0   \n",
              "\n",
              "             Adj Close  \n",
              "Date                    \n",
              "2017-12-31   59.852001  \n",
              "2018-12-31   50.112000  \n",
              "2019-12-31   35.793999  \n",
              "2020-12-31   72.244003  \n",
              "2021-12-31  563.000000  \n",
              "2022-12-31  628.159973  "
            ],
            "text/html": [
              "\n",
              "  <div id=\"df-bab33fb3-c7a5-4490-8265-9da535c01b44\">\n",
              "    <div class=\"colab-df-container\">\n",
              "      <div>\n",
              "<style scoped>\n",
              "    .dataframe tbody tr th:only-of-type {\n",
              "        vertical-align: middle;\n",
              "    }\n",
              "\n",
              "    .dataframe tbody tr th {\n",
              "        vertical-align: top;\n",
              "    }\n",
              "\n",
              "    .dataframe thead th {\n",
              "        text-align: right;\n",
              "    }\n",
              "</style>\n",
              "<table border=\"1\" class=\"dataframe\">\n",
              "  <thead>\n",
              "    <tr style=\"text-align: right;\">\n",
              "      <th></th>\n",
              "      <th>High</th>\n",
              "      <th>Low</th>\n",
              "      <th>Open</th>\n",
              "      <th>Close</th>\n",
              "      <th>Volume</th>\n",
              "      <th>Adj Close</th>\n",
              "    </tr>\n",
              "    <tr>\n",
              "      <th>Date</th>\n",
              "      <th></th>\n",
              "      <th></th>\n",
              "      <th></th>\n",
              "      <th></th>\n",
              "      <th></th>\n",
              "      <th></th>\n",
              "    </tr>\n",
              "  </thead>\n",
              "  <tbody>\n",
              "    <tr>\n",
              "      <th>2017-12-31</th>\n",
              "      <td>60.891998</td>\n",
              "      <td>58.526001</td>\n",
              "      <td>59.900002</td>\n",
              "      <td>59.852001</td>\n",
              "      <td>15247500.0</td>\n",
              "      <td>59.852001</td>\n",
              "    </tr>\n",
              "    <tr>\n",
              "      <th>2018-12-31</th>\n",
              "      <td>52.066002</td>\n",
              "      <td>48.917999</td>\n",
              "      <td>50.556000</td>\n",
              "      <td>50.112000</td>\n",
              "      <td>15403500.0</td>\n",
              "      <td>50.112000</td>\n",
              "    </tr>\n",
              "    <tr>\n",
              "      <th>2019-12-31</th>\n",
              "      <td>37.335999</td>\n",
              "      <td>35.397999</td>\n",
              "      <td>36.220001</td>\n",
              "      <td>35.793999</td>\n",
              "      <td>12328000.0</td>\n",
              "      <td>35.793999</td>\n",
              "    </tr>\n",
              "    <tr>\n",
              "      <th>2020-12-31</th>\n",
              "      <td>80.972000</td>\n",
              "      <td>70.101997</td>\n",
              "      <td>74.940002</td>\n",
              "      <td>72.244003</td>\n",
              "      <td>17357700.0</td>\n",
              "      <td>72.244003</td>\n",
              "    </tr>\n",
              "    <tr>\n",
              "      <th>2021-12-31</th>\n",
              "      <td>566.210022</td>\n",
              "      <td>539.489990</td>\n",
              "      <td>552.549988</td>\n",
              "      <td>563.000000</td>\n",
              "      <td>9800600.0</td>\n",
              "      <td>563.000000</td>\n",
              "    </tr>\n",
              "    <tr>\n",
              "      <th>2022-12-31</th>\n",
              "      <td>653.919983</td>\n",
              "      <td>620.570007</td>\n",
              "      <td>623.849976</td>\n",
              "      <td>628.159973</td>\n",
              "      <td>15833500.0</td>\n",
              "      <td>628.159973</td>\n",
              "    </tr>\n",
              "  </tbody>\n",
              "</table>\n",
              "</div>\n",
              "      <button class=\"colab-df-convert\" onclick=\"convertToInteractive('df-bab33fb3-c7a5-4490-8265-9da535c01b44')\"\n",
              "              title=\"Convert this dataframe to an interactive table.\"\n",
              "              style=\"display:none;\">\n",
              "        \n",
              "  <svg xmlns=\"http://www.w3.org/2000/svg\" height=\"24px\"viewBox=\"0 0 24 24\"\n",
              "       width=\"24px\">\n",
              "    <path d=\"M0 0h24v24H0V0z\" fill=\"none\"/>\n",
              "    <path d=\"M18.56 5.44l.94 2.06.94-2.06 2.06-.94-2.06-.94-.94-2.06-.94 2.06-2.06.94zm-11 1L8.5 8.5l.94-2.06 2.06-.94-2.06-.94L8.5 2.5l-.94 2.06-2.06.94zm10 10l.94 2.06.94-2.06 2.06-.94-2.06-.94-.94-2.06-.94 2.06-2.06.94z\"/><path d=\"M17.41 7.96l-1.37-1.37c-.4-.4-.92-.59-1.43-.59-.52 0-1.04.2-1.43.59L10.3 9.45l-7.72 7.72c-.78.78-.78 2.05 0 2.83L4 21.41c.39.39.9.59 1.41.59.51 0 1.02-.2 1.41-.59l7.78-7.78 2.81-2.81c.8-.78.8-2.07 0-2.86zM5.41 20L4 18.59l7.72-7.72 1.47 1.35L5.41 20z\"/>\n",
              "  </svg>\n",
              "      </button>\n",
              "      \n",
              "  <style>\n",
              "    .colab-df-container {\n",
              "      display:flex;\n",
              "      flex-wrap:wrap;\n",
              "      gap: 12px;\n",
              "    }\n",
              "\n",
              "    .colab-df-convert {\n",
              "      background-color: #E8F0FE;\n",
              "      border: none;\n",
              "      border-radius: 50%;\n",
              "      cursor: pointer;\n",
              "      display: none;\n",
              "      fill: #1967D2;\n",
              "      height: 32px;\n",
              "      padding: 0 0 0 0;\n",
              "      width: 32px;\n",
              "    }\n",
              "\n",
              "    .colab-df-convert:hover {\n",
              "      background-color: #E2EBFA;\n",
              "      box-shadow: 0px 1px 2px rgba(60, 64, 67, 0.3), 0px 1px 3px 1px rgba(60, 64, 67, 0.15);\n",
              "      fill: #174EA6;\n",
              "    }\n",
              "\n",
              "    [theme=dark] .colab-df-convert {\n",
              "      background-color: #3B4455;\n",
              "      fill: #D2E3FC;\n",
              "    }\n",
              "\n",
              "    [theme=dark] .colab-df-convert:hover {\n",
              "      background-color: #434B5C;\n",
              "      box-shadow: 0px 1px 3px 1px rgba(0, 0, 0, 0.15);\n",
              "      filter: drop-shadow(0px 1px 2px rgba(0, 0, 0, 0.3));\n",
              "      fill: #FFFFFF;\n",
              "    }\n",
              "  </style>\n",
              "\n",
              "      <script>\n",
              "        const buttonEl =\n",
              "          document.querySelector('#df-bab33fb3-c7a5-4490-8265-9da535c01b44 button.colab-df-convert');\n",
              "        buttonEl.style.display =\n",
              "          google.colab.kernel.accessAllowed ? 'block' : 'none';\n",
              "\n",
              "        async function convertToInteractive(key) {\n",
              "          const element = document.querySelector('#df-bab33fb3-c7a5-4490-8265-9da535c01b44');\n",
              "          const dataTable =\n",
              "            await google.colab.kernel.invokeFunction('convertToInteractive',\n",
              "                                                     [key], {});\n",
              "          if (!dataTable) return;\n",
              "\n",
              "          const docLinkHtml = 'Like what you see? Visit the ' +\n",
              "            '<a target=\"_blank\" href=https://colab.research.google.com/notebooks/data_table.ipynb>data table notebook</a>'\n",
              "            + ' to learn more about interactive tables.';\n",
              "          element.innerHTML = '';\n",
              "          dataTable['output_type'] = 'display_data';\n",
              "          await google.colab.output.renderOutput(dataTable, element);\n",
              "          const docLink = document.createElement('div');\n",
              "          docLink.innerHTML = docLinkHtml;\n",
              "          element.appendChild(docLink);\n",
              "        }\n",
              "      </script>\n",
              "    </div>\n",
              "  </div>\n",
              "  "
            ]
          },
          "metadata": {},
          "execution_count": 37
        }
      ]
    },
    {
      "cell_type": "markdown",
      "source": [
        "Resampled above is annual data"
      ],
      "metadata": {
        "id": "YiJHnzSmJV85"
      }
    },
    {
      "cell_type": "code",
      "source": [
        "df_tesla.resample(rule='A').max()"
      ],
      "metadata": {
        "colab": {
          "base_uri": "https://localhost:8080/",
          "height": 269
        },
        "id": "Nbwi6lPOJS1r",
        "outputId": "420671a5-16bc-4424-defa-1b7aae4619ad"
      },
      "execution_count": 38,
      "outputs": [
        {
          "output_type": "execute_result",
          "data": {
            "text/plain": [
              "                   High          Low         Open        Close       Volume  \\\n",
              "Date                                                                          \n",
              "2017-12-31    77.921997    75.536003    76.050003    77.000000   98957000.0   \n",
              "2018-12-31    77.491997    73.424004    75.000000    75.914001  168248500.0   \n",
              "2019-12-31    87.061996    85.269997    87.000000    86.188004  150030500.0   \n",
              "2020-12-31   718.719971   691.119995   699.989990   705.669983  304694000.0   \n",
              "2021-12-31  1243.489990  1217.000000  1234.410034  1229.910034   89396500.0   \n",
              "2022-12-31  1208.000000  1136.040039  1189.550049  1199.780029   50521900.0   \n",
              "\n",
              "              Adj Close  \n",
              "Date                     \n",
              "2017-12-31    77.000000  \n",
              "2018-12-31    75.914001  \n",
              "2019-12-31    86.188004  \n",
              "2020-12-31   705.669983  \n",
              "2021-12-31  1229.910034  \n",
              "2022-12-31  1199.780029  "
            ],
            "text/html": [
              "\n",
              "  <div id=\"df-e36f2294-2b30-4881-acda-c8db22ada50f\">\n",
              "    <div class=\"colab-df-container\">\n",
              "      <div>\n",
              "<style scoped>\n",
              "    .dataframe tbody tr th:only-of-type {\n",
              "        vertical-align: middle;\n",
              "    }\n",
              "\n",
              "    .dataframe tbody tr th {\n",
              "        vertical-align: top;\n",
              "    }\n",
              "\n",
              "    .dataframe thead th {\n",
              "        text-align: right;\n",
              "    }\n",
              "</style>\n",
              "<table border=\"1\" class=\"dataframe\">\n",
              "  <thead>\n",
              "    <tr style=\"text-align: right;\">\n",
              "      <th></th>\n",
              "      <th>High</th>\n",
              "      <th>Low</th>\n",
              "      <th>Open</th>\n",
              "      <th>Close</th>\n",
              "      <th>Volume</th>\n",
              "      <th>Adj Close</th>\n",
              "    </tr>\n",
              "    <tr>\n",
              "      <th>Date</th>\n",
              "      <th></th>\n",
              "      <th></th>\n",
              "      <th></th>\n",
              "      <th></th>\n",
              "      <th></th>\n",
              "      <th></th>\n",
              "    </tr>\n",
              "  </thead>\n",
              "  <tbody>\n",
              "    <tr>\n",
              "      <th>2017-12-31</th>\n",
              "      <td>77.921997</td>\n",
              "      <td>75.536003</td>\n",
              "      <td>76.050003</td>\n",
              "      <td>77.000000</td>\n",
              "      <td>98957000.0</td>\n",
              "      <td>77.000000</td>\n",
              "    </tr>\n",
              "    <tr>\n",
              "      <th>2018-12-31</th>\n",
              "      <td>77.491997</td>\n",
              "      <td>73.424004</td>\n",
              "      <td>75.000000</td>\n",
              "      <td>75.914001</td>\n",
              "      <td>168248500.0</td>\n",
              "      <td>75.914001</td>\n",
              "    </tr>\n",
              "    <tr>\n",
              "      <th>2019-12-31</th>\n",
              "      <td>87.061996</td>\n",
              "      <td>85.269997</td>\n",
              "      <td>87.000000</td>\n",
              "      <td>86.188004</td>\n",
              "      <td>150030500.0</td>\n",
              "      <td>86.188004</td>\n",
              "    </tr>\n",
              "    <tr>\n",
              "      <th>2020-12-31</th>\n",
              "      <td>718.719971</td>\n",
              "      <td>691.119995</td>\n",
              "      <td>699.989990</td>\n",
              "      <td>705.669983</td>\n",
              "      <td>304694000.0</td>\n",
              "      <td>705.669983</td>\n",
              "    </tr>\n",
              "    <tr>\n",
              "      <th>2021-12-31</th>\n",
              "      <td>1243.489990</td>\n",
              "      <td>1217.000000</td>\n",
              "      <td>1234.410034</td>\n",
              "      <td>1229.910034</td>\n",
              "      <td>89396500.0</td>\n",
              "      <td>1229.910034</td>\n",
              "    </tr>\n",
              "    <tr>\n",
              "      <th>2022-12-31</th>\n",
              "      <td>1208.000000</td>\n",
              "      <td>1136.040039</td>\n",
              "      <td>1189.550049</td>\n",
              "      <td>1199.780029</td>\n",
              "      <td>50521900.0</td>\n",
              "      <td>1199.780029</td>\n",
              "    </tr>\n",
              "  </tbody>\n",
              "</table>\n",
              "</div>\n",
              "      <button class=\"colab-df-convert\" onclick=\"convertToInteractive('df-e36f2294-2b30-4881-acda-c8db22ada50f')\"\n",
              "              title=\"Convert this dataframe to an interactive table.\"\n",
              "              style=\"display:none;\">\n",
              "        \n",
              "  <svg xmlns=\"http://www.w3.org/2000/svg\" height=\"24px\"viewBox=\"0 0 24 24\"\n",
              "       width=\"24px\">\n",
              "    <path d=\"M0 0h24v24H0V0z\" fill=\"none\"/>\n",
              "    <path d=\"M18.56 5.44l.94 2.06.94-2.06 2.06-.94-2.06-.94-.94-2.06-.94 2.06-2.06.94zm-11 1L8.5 8.5l.94-2.06 2.06-.94-2.06-.94L8.5 2.5l-.94 2.06-2.06.94zm10 10l.94 2.06.94-2.06 2.06-.94-2.06-.94-.94-2.06-.94 2.06-2.06.94z\"/><path d=\"M17.41 7.96l-1.37-1.37c-.4-.4-.92-.59-1.43-.59-.52 0-1.04.2-1.43.59L10.3 9.45l-7.72 7.72c-.78.78-.78 2.05 0 2.83L4 21.41c.39.39.9.59 1.41.59.51 0 1.02-.2 1.41-.59l7.78-7.78 2.81-2.81c.8-.78.8-2.07 0-2.86zM5.41 20L4 18.59l7.72-7.72 1.47 1.35L5.41 20z\"/>\n",
              "  </svg>\n",
              "      </button>\n",
              "      \n",
              "  <style>\n",
              "    .colab-df-container {\n",
              "      display:flex;\n",
              "      flex-wrap:wrap;\n",
              "      gap: 12px;\n",
              "    }\n",
              "\n",
              "    .colab-df-convert {\n",
              "      background-color: #E8F0FE;\n",
              "      border: none;\n",
              "      border-radius: 50%;\n",
              "      cursor: pointer;\n",
              "      display: none;\n",
              "      fill: #1967D2;\n",
              "      height: 32px;\n",
              "      padding: 0 0 0 0;\n",
              "      width: 32px;\n",
              "    }\n",
              "\n",
              "    .colab-df-convert:hover {\n",
              "      background-color: #E2EBFA;\n",
              "      box-shadow: 0px 1px 2px rgba(60, 64, 67, 0.3), 0px 1px 3px 1px rgba(60, 64, 67, 0.15);\n",
              "      fill: #174EA6;\n",
              "    }\n",
              "\n",
              "    [theme=dark] .colab-df-convert {\n",
              "      background-color: #3B4455;\n",
              "      fill: #D2E3FC;\n",
              "    }\n",
              "\n",
              "    [theme=dark] .colab-df-convert:hover {\n",
              "      background-color: #434B5C;\n",
              "      box-shadow: 0px 1px 3px 1px rgba(0, 0, 0, 0.15);\n",
              "      filter: drop-shadow(0px 1px 2px rgba(0, 0, 0, 0.3));\n",
              "      fill: #FFFFFF;\n",
              "    }\n",
              "  </style>\n",
              "\n",
              "      <script>\n",
              "        const buttonEl =\n",
              "          document.querySelector('#df-e36f2294-2b30-4881-acda-c8db22ada50f button.colab-df-convert');\n",
              "        buttonEl.style.display =\n",
              "          google.colab.kernel.accessAllowed ? 'block' : 'none';\n",
              "\n",
              "        async function convertToInteractive(key) {\n",
              "          const element = document.querySelector('#df-e36f2294-2b30-4881-acda-c8db22ada50f');\n",
              "          const dataTable =\n",
              "            await google.colab.kernel.invokeFunction('convertToInteractive',\n",
              "                                                     [key], {});\n",
              "          if (!dataTable) return;\n",
              "\n",
              "          const docLinkHtml = 'Like what you see? Visit the ' +\n",
              "            '<a target=\"_blank\" href=https://colab.research.google.com/notebooks/data_table.ipynb>data table notebook</a>'\n",
              "            + ' to learn more about interactive tables.';\n",
              "          element.innerHTML = '';\n",
              "          dataTable['output_type'] = 'display_data';\n",
              "          await google.colab.output.renderOutput(dataTable, element);\n",
              "          const docLink = document.createElement('div');\n",
              "          docLink.innerHTML = docLinkHtml;\n",
              "          element.appendChild(docLink);\n",
              "        }\n",
              "      </script>\n",
              "    </div>\n",
              "  </div>\n",
              "  "
            ]
          },
          "metadata": {},
          "execution_count": 38
        }
      ]
    },
    {
      "cell_type": "code",
      "source": [
        "##year end frequency\n",
        "df_tesla.resample(rule='A').max()['Open'].plot()"
      ],
      "metadata": {
        "colab": {
          "base_uri": "https://localhost:8080/",
          "height": 296
        },
        "id": "zG4_m2TYJPpS",
        "outputId": "1eb3f88b-a859-40c8-f5fc-9009435ec134"
      },
      "execution_count": 39,
      "outputs": [
        {
          "output_type": "execute_result",
          "data": {
            "text/plain": [
              "<matplotlib.axes._subplots.AxesSubplot at 0x7f901fe8f790>"
            ]
          },
          "metadata": {},
          "execution_count": 39
        },
        {
          "output_type": "display_data",
          "data": {
            "text/plain": [
              "<Figure size 432x288 with 1 Axes>"
            ],
            "image/png": "[encoded data removed]"
          },
          "metadata": {
            "needs_background": "light"
          }
        }
      ]
    },
    {
      "cell_type": "code",
      "source": [
        "##quaterly start frequency\n",
        "##https://towardsdatascience.com/resample-function-of-pandas-79b17ec82a78\n",
        "df_tesla.resample(rule='QS').max()['High'].plot()"
      ],
      "metadata": {
        "colab": {
          "base_uri": "https://localhost:8080/",
          "height": 296
        },
        "id": "7xHdumg6Jd28",
        "outputId": "7515a462-d75c-4831-8e1d-22cbf39ca877"
      },
      "execution_count": 40,
      "outputs": [
        {
          "output_type": "execute_result",
          "data": {
            "text/plain": [
              "<matplotlib.axes._subplots.AxesSubplot at 0x7f901fce9190>"
            ]
          },
          "metadata": {},
          "execution_count": 40
        },
        {
          "output_type": "display_data",
          "data": {
            "text/plain": [
              "<Figure size 432x288 with 1 Axes>"
            ],
            "image/png": "[encoded data removed]"
          },
          "metadata": {
            "needs_background": "light"
          }
        }
      ]
    },
    {
      "cell_type": "code",
      "source": [
        "##Business End Frequency\n",
        "##https://towardsdatascience.com/resample-function-of-pandas-79b17ec82a78\n",
        "df_tesla.resample(rule='BA').max()"
      ],
      "metadata": {
        "colab": {
          "base_uri": "https://localhost:8080/",
          "height": 269
        },
        "id": "qTCAOpmWJg23",
        "outputId": "94155f8e-1340-4e6a-a439-599b0dc6266b"
      },
      "execution_count": 41,
      "outputs": [
        {
          "output_type": "execute_result",
          "data": {
            "text/plain": [
              "                   High          Low         Open        Close       Volume  \\\n",
              "Date                                                                          \n",
              "2017-12-29    77.921997    75.536003    76.050003    77.000000   98957000.0   \n",
              "2018-12-31    77.491997    73.424004    75.000000    75.914001  168248500.0   \n",
              "2019-12-31    87.061996    85.269997    87.000000    86.188004  150030500.0   \n",
              "2020-12-31   718.719971   691.119995   699.989990   705.669983  304694000.0   \n",
              "2021-12-31  1243.489990  1217.000000  1234.410034  1229.910034   89396500.0   \n",
              "2022-12-30  1208.000000  1136.040039  1189.550049  1199.780029   50521900.0   \n",
              "\n",
              "              Adj Close  \n",
              "Date                     \n",
              "2017-12-29    77.000000  \n",
              "2018-12-31    75.914001  \n",
              "2019-12-31    86.188004  \n",
              "2020-12-31   705.669983  \n",
              "2021-12-31  1229.910034  \n",
              "2022-12-30  1199.780029  "
            ],
            "text/html": [
              "\n",
              "  <div id=\"df-5d15f759-c6a5-4171-8196-8b2b8c4ea2fb\">\n",
              "    <div class=\"colab-df-container\">\n",
              "      <div>\n",
              "<style scoped>\n",
              "    .dataframe tbody tr th:only-of-type {\n",
              "        vertical-align: middle;\n",
              "    }\n",
              "\n",
              "    .dataframe tbody tr th {\n",
              "        vertical-align: top;\n",
              "    }\n",
              "\n",
              "    .dataframe thead th {\n",
              "        text-align: right;\n",
              "    }\n",
              "</style>\n",
              "<table border=\"1\" class=\"dataframe\">\n",
              "  <thead>\n",
              "    <tr style=\"text-align: right;\">\n",
              "      <th></th>\n",
              "      <th>High</th>\n",
              "      <th>Low</th>\n",
              "      <th>Open</th>\n",
              "      <th>Close</th>\n",
              "      <th>Volume</th>\n",
              "      <th>Adj Close</th>\n",
              "    </tr>\n",
              "    <tr>\n",
              "      <th>Date</th>\n",
              "      <th></th>\n",
              "      <th></th>\n",
              "      <th></th>\n",
              "      <th></th>\n",
              "      <th></th>\n",
              "      <th></th>\n",
              "    </tr>\n",
              "  </thead>\n",
              "  <tbody>\n",
              "    <tr>\n",
              "      <th>2017-12-29</th>\n",
              "      <td>77.921997</td>\n",
              "      <td>75.536003</td>\n",
              "      <td>76.050003</td>\n",
              "      <td>77.000000</td>\n",
              "      <td>98957000.0</td>\n",
              "      <td>77.000000</td>\n",
              "    </tr>\n",
              "    <tr>\n",
              "      <th>2018-12-31</th>\n",
              "      <td>77.491997</td>\n",
              "      <td>73.424004</td>\n",
              "      <td>75.000000</td>\n",
              "      <td>75.914001</td>\n",
              "      <td>168248500.0</td>\n",
              "      <td>75.914001</td>\n",
              "    </tr>\n",
              "    <tr>\n",
              "      <th>2019-12-31</th>\n",
              "      <td>87.061996</td>\n",
              "      <td>85.269997</td>\n",
              "      <td>87.000000</td>\n",
              "      <td>86.188004</td>\n",
              "      <td>150030500.0</td>\n",
              "      <td>86.188004</td>\n",
              "    </tr>\n",
              "    <tr>\n",
              "      <th>2020-12-31</th>\n",
              "      <td>718.719971</td>\n",
              "      <td>691.119995</td>\n",
              "      <td>699.989990</td>\n",
              "      <td>705.669983</td>\n",
              "      <td>304694000.0</td>\n",
              "      <td>705.669983</td>\n",
              "    </tr>\n",
              "    <tr>\n",
              "      <th>2021-12-31</th>\n",
              "      <td>1243.489990</td>\n",
              "      <td>1217.000000</td>\n",
              "      <td>1234.410034</td>\n",
              "      <td>1229.910034</td>\n",
              "      <td>89396500.0</td>\n",
              "      <td>1229.910034</td>\n",
              "    </tr>\n",
              "    <tr>\n",
              "      <th>2022-12-30</th>\n",
              "      <td>1208.000000</td>\n",
              "      <td>1136.040039</td>\n",
              "      <td>1189.550049</td>\n",
              "      <td>1199.780029</td>\n",
              "      <td>50521900.0</td>\n",
              "      <td>1199.780029</td>\n",
              "    </tr>\n",
              "  </tbody>\n",
              "</table>\n",
              "</div>\n",
              "      <button class=\"colab-df-convert\" onclick=\"convertToInteractive('df-5d15f759-c6a5-4171-8196-8b2b8c4ea2fb')\"\n",
              "              title=\"Convert this dataframe to an interactive table.\"\n",
              "              style=\"display:none;\">\n",
              "        \n",
              "  <svg xmlns=\"http://www.w3.org/2000/svg\" height=\"24px\"viewBox=\"0 0 24 24\"\n",
              "       width=\"24px\">\n",
              "    <path d=\"M0 0h24v24H0V0z\" fill=\"none\"/>\n",
              "    <path d=\"M18.56 5.44l.94 2.06.94-2.06 2.06-.94-2.06-.94-.94-2.06-.94 2.06-2.06.94zm-11 1L8.5 8.5l.94-2.06 2.06-.94-2.06-.94L8.5 2.5l-.94 2.06-2.06.94zm10 10l.94 2.06.94-2.06 2.06-.94-2.06-.94-.94-2.06-.94 2.06-2.06.94z\"/><path d=\"M17.41 7.96l-1.37-1.37c-.4-.4-.92-.59-1.43-.59-.52 0-1.04.2-1.43.59L10.3 9.45l-7.72 7.72c-.78.78-.78 2.05 0 2.83L4 21.41c.39.39.9.59 1.41.59.51 0 1.02-.2 1.41-.59l7.78-7.78 2.81-2.81c.8-.78.8-2.07 0-2.86zM5.41 20L4 18.59l7.72-7.72 1.47 1.35L5.41 20z\"/>\n",
              "  </svg>\n",
              "      </button>\n",
              "      \n",
              "  <style>\n",
              "    .colab-df-container {\n",
              "      display:flex;\n",
              "      flex-wrap:wrap;\n",
              "      gap: 12px;\n",
              "    }\n",
              "\n",
              "    .colab-df-convert {\n",
              "      background-color: #E8F0FE;\n",
              "      border: none;\n",
              "      border-radius: 50%;\n",
              "      cursor: pointer;\n",
              "      display: none;\n",
              "      fill: #1967D2;\n",
              "      height: 32px;\n",
              "      padding: 0 0 0 0;\n",
              "      width: 32px;\n",
              "    }\n",
              "\n",
              "    .colab-df-convert:hover {\n",
              "      background-color: #E2EBFA;\n",
              "      box-shadow: 0px 1px 2px rgba(60, 64, 67, 0.3), 0px 1px 3px 1px rgba(60, 64, 67, 0.15);\n",
              "      fill: #174EA6;\n",
              "    }\n",
              "\n",
              "    [theme=dark] .colab-df-convert {\n",
              "      background-color: #3B4455;\n",
              "      fill: #D2E3FC;\n",
              "    }\n",
              "\n",
              "    [theme=dark] .colab-df-convert:hover {\n",
              "      background-color: #434B5C;\n",
              "      box-shadow: 0px 1px 3px 1px rgba(0, 0, 0, 0.15);\n",
              "      filter: drop-shadow(0px 1px 2px rgba(0, 0, 0, 0.3));\n",
              "      fill: #FFFFFF;\n",
              "    }\n",
              "  </style>\n",
              "\n",
              "      <script>\n",
              "        const buttonEl =\n",
              "          document.querySelector('#df-5d15f759-c6a5-4171-8196-8b2b8c4ea2fb button.colab-df-convert');\n",
              "        buttonEl.style.display =\n",
              "          google.colab.kernel.accessAllowed ? 'block' : 'none';\n",
              "\n",
              "        async function convertToInteractive(key) {\n",
              "          const element = document.querySelector('#df-5d15f759-c6a5-4171-8196-8b2b8c4ea2fb');\n",
              "          const dataTable =\n",
              "            await google.colab.kernel.invokeFunction('convertToInteractive',\n",
              "                                                     [key], {});\n",
              "          if (!dataTable) return;\n",
              "\n",
              "          const docLinkHtml = 'Like what you see? Visit the ' +\n",
              "            '<a target=\"_blank\" href=https://colab.research.google.com/notebooks/data_table.ipynb>data table notebook</a>'\n",
              "            + ' to learn more about interactive tables.';\n",
              "          element.innerHTML = '';\n",
              "          dataTable['output_type'] = 'display_data';\n",
              "          await google.colab.output.renderOutput(dataTable, element);\n",
              "          const docLink = document.createElement('div');\n",
              "          docLink.innerHTML = docLinkHtml;\n",
              "          element.appendChild(docLink);\n",
              "        }\n",
              "      </script>\n",
              "    </div>\n",
              "  </div>\n",
              "  "
            ]
          },
          "metadata": {},
          "execution_count": 41
        }
      ]
    },
    {
      "cell_type": "code",
      "source": [
        "df_tesla.resample(rule='BQS').max()"
      ],
      "metadata": {
        "colab": {
          "base_uri": "https://localhost:8080/",
          "height": 739
        },
        "id": "cZI_xDyYJkyE",
        "outputId": "11de3fdc-7cc2-4d54-8641-2ce474f1bfaf"
      },
      "execution_count": 42,
      "outputs": [
        {
          "output_type": "execute_result",
          "data": {
            "text/plain": [
              "                   High          Low         Open        Close       Volume  \\\n",
              "Date                                                                          \n",
              "2017-07-03    77.921997    75.536003    76.050003    77.000000   40797000.0   \n",
              "2017-10-02    72.599998    70.825996    71.396004    71.930000   98957000.0   \n",
              "2018-01-01    72.099998    70.472000    72.000000    71.484001  105007000.0   \n",
              "2018-04-02    74.746002    70.900002    73.031998    74.166000  111737000.0   \n",
              "2018-07-02    77.491997    73.424004    73.818001    75.914001  168248500.0   \n",
              "2018-10-01    75.898003    73.349998    75.000000    75.358002  137127500.0   \n",
              "2019-01-01    70.400002    68.830002    69.241997    69.461998  120754000.0   \n",
              "2019-04-01    59.234001    57.433998    57.660000    58.362000  132735500.0   \n",
              "2019-07-01    53.214001    51.632000    51.834000    52.976002  112091500.0   \n",
              "2019-10-01    87.061996    85.269997    87.000000    86.188004  150030500.0   \n",
              "2020-01-01   193.798004   180.203995   184.699997   183.483994  304694000.0   \n",
              "2020-04-01   217.537994   200.746002   202.556000   215.962006  162659000.0   \n",
              "2020-07-01   502.489990   470.510010   502.140015   498.320007  194927000.0   \n",
              "2020-10-01   718.719971   691.119995   699.989990   705.669983  222126200.0   \n",
              "2021-01-01   900.400024   871.599976   891.380005   883.090027   89396500.0   \n",
              "2021-04-01   780.789978   732.609985   770.700012   762.320007   49017400.0   \n",
              "2021-07-01   799.000000   775.000000   787.200012   791.359985   33615800.0   \n",
              "2021-10-01  1243.489990  1217.000000  1234.410034  1229.910034   62852100.0   \n",
              "2022-01-03  1208.000000  1136.040039  1189.550049  1199.780029   50521900.0   \n",
              "2022-04-01  1152.869995  1087.300049  1136.300049  1145.449951   48324400.0   \n",
              "2022-07-01   944.000000   915.000000   935.000000   927.960022   47344100.0   \n",
              "\n",
              "              Adj Close  \n",
              "Date                     \n",
              "2017-07-03    77.000000  \n",
              "2017-10-02    71.930000  \n",
              "2018-01-01    71.484001  \n",
              "2018-04-02    74.166000  \n",
              "2018-07-02    75.914001  \n",
              "2018-10-01    75.358002  \n",
              "2019-01-01    69.461998  \n",
              "2019-04-01    58.362000  \n",
              "2019-07-01    52.976002  \n",
              "2019-10-01    86.188004  \n",
              "2020-01-01   183.483994  \n",
              "2020-04-01   215.962006  \n",
              "2020-07-01   498.320007  \n",
              "2020-10-01   705.669983  \n",
              "2021-01-01   883.090027  \n",
              "2021-04-01   762.320007  \n",
              "2021-07-01   791.359985  \n",
              "2021-10-01  1229.910034  \n",
              "2022-01-03  1199.780029  \n",
              "2022-04-01  1145.449951  \n",
              "2022-07-01   927.960022  "
            ],
            "text/html": [
              "\n",
              "  <div id=\"df-cc3d9c26-fb64-4abd-ad0e-172a8ebe60d3\">\n",
              "    <div class=\"colab-df-container\">\n",
              "      <div>\n",
              "<style scoped>\n",
              "    .dataframe tbody tr th:only-of-type {\n",
              "        vertical-align: middle;\n",
              "    }\n",
              "\n",
              "    .dataframe tbody tr th {\n",
              "        vertical-align: top;\n",
              "    }\n",
              "\n",
              "    .dataframe thead th {\n",
              "        text-align: right;\n",
              "    }\n",
              "</style>\n",
              "<table border=\"1\" class=\"dataframe\">\n",
              "  <thead>\n",
              "    <tr style=\"text-align: right;\">\n",
              "      <th></th>\n",
              "      <th>High</th>\n",
              "      <th>Low</th>\n",
              "      <th>Open</th>\n",
              "      <th>Close</th>\n",
              "      <th>Volume</th>\n",
              "      <th>Adj Close</th>\n",
              "    </tr>\n",
              "    <tr>\n",
              "      <th>Date</th>\n",
              "      <th></th>\n",
              "      <th></th>\n",
              "      <th></th>\n",
              "      <th></th>\n",
              "      <th></th>\n",
              "      <th></th>\n",
              "    </tr>\n",
              "  </thead>\n",
              "  <tbody>\n",
              "    <tr>\n",
              "      <th>2017-07-03</th>\n",
              "      <td>77.921997</td>\n",
              "      <td>75.536003</td>\n",
              "      <td>76.050003</td>\n",
              "      <td>77.000000</td>\n",
              "      <td>40797000.0</td>\n",
              "      <td>77.000000</td>\n",
              "    </tr>\n",
              "    <tr>\n",
              "      <th>2017-10-02</th>\n",
              "      <td>72.599998</td>\n",
              "      <td>70.825996</td>\n",
              "      <td>71.396004</td>\n",
              "      <td>71.930000</td>\n",
              "      <td>98957000.0</td>\n",
              "      <td>71.930000</td>\n",
              "    </tr>\n",
              "    <tr>\n",
              "      <th>2018-01-01</th>\n",
              "      <td>72.099998</td>\n",
              "      <td>70.472000</td>\n",
              "      <td>72.000000</td>\n",
              "      <td>71.484001</td>\n",
              "      <td>105007000.0</td>\n",
              "      <td>71.484001</td>\n",
              "    </tr>\n",
              "    <tr>\n",
              "      <th>2018-04-02</th>\n",
              "      <td>74.746002</td>\n",
              "      <td>70.900002</td>\n",
              "      <td>73.031998</td>\n",
              "      <td>74.166000</td>\n",
              "      <td>111737000.0</td>\n",
              "      <td>74.166000</td>\n",
              "    </tr>\n",
              "    <tr>\n",
              "      <th>2018-07-02</th>\n",
              "      <td>77.491997</td>\n",
              "      <td>73.424004</td>\n",
              "      <td>73.818001</td>\n",
              "      <td>75.914001</td>\n",
              "      <td>168248500.0</td>\n",
              "      <td>75.914001</td>\n",
              "    </tr>\n",
              "    <tr>\n",
              "      <th>2018-10-01</th>\n",
              "      <td>75.898003</td>\n",
              "      <td>73.349998</td>\n",
              "      <td>75.000000</td>\n",
              "      <td>75.358002</td>\n",
              "      <td>137127500.0</td>\n",
              "      <td>75.358002</td>\n",
              "    </tr>\n",
              "    <tr>\n",
              "      <th>2019-01-01</th>\n",
              "      <td>70.400002</td>\n",
              "      <td>68.830002</td>\n",
              "      <td>69.241997</td>\n",
              "      <td>69.461998</td>\n",
              "      <td>120754000.0</td>\n",
              "      <td>69.461998</td>\n",
              "    </tr>\n",
              "    <tr>\n",
              "      <th>2019-04-01</th>\n",
              "      <td>59.234001</td>\n",
              "      <td>57.433998</td>\n",
              "      <td>57.660000</td>\n",
              "      <td>58.362000</td>\n",
              "      <td>132735500.0</td>\n",
              "      <td>58.362000</td>\n",
              "    </tr>\n",
              "    <tr>\n",
              "      <th>2019-07-01</th>\n",
              "      <td>53.214001</td>\n",
              "      <td>51.632000</td>\n",
              "      <td>51.834000</td>\n",
              "      <td>52.976002</td>\n",
              "      <td>112091500.0</td>\n",
              "      <td>52.976002</td>\n",
              "    </tr>\n",
              "    <tr>\n",
              "      <th>2019-10-01</th>\n",
              "      <td>87.061996</td>\n",
              "      <td>85.269997</td>\n",
              "      <td>87.000000</td>\n",
              "      <td>86.188004</td>\n",
              "      <td>150030500.0</td>\n",
              "      <td>86.188004</td>\n",
              "    </tr>\n",
              "    <tr>\n",
              "      <th>2020-01-01</th>\n",
              "      <td>193.798004</td>\n",
              "      <td>180.203995</td>\n",
              "      <td>184.699997</td>\n",
              "      <td>183.483994</td>\n",
              "      <td>304694000.0</td>\n",
              "      <td>183.483994</td>\n",
              "    </tr>\n",
              "    <tr>\n",
              "      <th>2020-04-01</th>\n",
              "      <td>217.537994</td>\n",
              "      <td>200.746002</td>\n",
              "      <td>202.556000</td>\n",
              "      <td>215.962006</td>\n",
              "      <td>162659000.0</td>\n",
              "      <td>215.962006</td>\n",
              "    </tr>\n",
              "    <tr>\n",
              "      <th>2020-07-01</th>\n",
              "      <td>502.489990</td>\n",
              "      <td>470.510010</td>\n",
              "      <td>502.140015</td>\n",
              "      <td>498.320007</td>\n",
              "      <td>194927000.0</td>\n",
              "      <td>498.320007</td>\n",
              "    </tr>\n",
              "    <tr>\n",
              "      <th>2020-10-01</th>\n",
              "      <td>718.719971</td>\n",
              "      <td>691.119995</td>\n",
              "      <td>699.989990</td>\n",
              "      <td>705.669983</td>\n",
              "      <td>222126200.0</td>\n",
              "      <td>705.669983</td>\n",
              "    </tr>\n",
              "    <tr>\n",
              "      <th>2021-01-01</th>\n",
              "      <td>900.400024</td>\n",
              "      <td>871.599976</td>\n",
              "      <td>891.380005</td>\n",
              "      <td>883.090027</td>\n",
              "      <td>89396500.0</td>\n",
              "      <td>883.090027</td>\n",
              "    </tr>\n",
              "    <tr>\n",
              "      <th>2021-04-01</th>\n",
              "      <td>780.789978</td>\n",
              "      <td>732.609985</td>\n",
              "      <td>770.700012</td>\n",
              "      <td>762.320007</td>\n",
              "      <td>49017400.0</td>\n",
              "      <td>762.320007</td>\n",
              "    </tr>\n",
              "    <tr>\n",
              "      <th>2021-07-01</th>\n",
              "      <td>799.000000</td>\n",
              "      <td>775.000000</td>\n",
              "      <td>787.200012</td>\n",
              "      <td>791.359985</td>\n",
              "      <td>33615800.0</td>\n",
              "      <td>791.359985</td>\n",
              "    </tr>\n",
              "    <tr>\n",
              "      <th>2021-10-01</th>\n",
              "      <td>1243.489990</td>\n",
              "      <td>1217.000000</td>\n",
              "      <td>1234.410034</td>\n",
              "      <td>1229.910034</td>\n",
              "      <td>62852100.0</td>\n",
              "      <td>1229.910034</td>\n",
              "    </tr>\n",
              "    <tr>\n",
              "      <th>2022-01-03</th>\n",
              "      <td>1208.000000</td>\n",
              "      <td>1136.040039</td>\n",
              "      <td>1189.550049</td>\n",
              "      <td>1199.780029</td>\n",
              "      <td>50521900.0</td>\n",
              "      <td>1199.780029</td>\n",
              "    </tr>\n",
              "    <tr>\n",
              "      <th>2022-04-01</th>\n",
              "      <td>1152.869995</td>\n",
              "      <td>1087.300049</td>\n",
              "      <td>1136.300049</td>\n",
              "      <td>1145.449951</td>\n",
              "      <td>48324400.0</td>\n",
              "      <td>1145.449951</td>\n",
              "    </tr>\n",
              "    <tr>\n",
              "      <th>2022-07-01</th>\n",
              "      <td>944.000000</td>\n",
              "      <td>915.000000</td>\n",
              "      <td>935.000000</td>\n",
              "      <td>927.960022</td>\n",
              "      <td>47344100.0</td>\n",
              "      <td>927.960022</td>\n",
              "    </tr>\n",
              "  </tbody>\n",
              "</table>\n",
              "</div>\n",
              "      <button class=\"colab-df-convert\" onclick=\"convertToInteractive('df-cc3d9c26-fb64-4abd-ad0e-172a8ebe60d3')\"\n",
              "              title=\"Convert this dataframe to an interactive table.\"\n",
              "              style=\"display:none;\">\n",
              "        \n",
              "  <svg xmlns=\"http://www.w3.org/2000/svg\" height=\"24px\"viewBox=\"0 0 24 24\"\n",
              "       width=\"24px\">\n",
              "    <path d=\"M0 0h24v24H0V0z\" fill=\"none\"/>\n",
              "    <path d=\"M18.56 5.44l.94 2.06.94-2.06 2.06-.94-2.06-.94-.94-2.06-.94 2.06-2.06.94zm-11 1L8.5 8.5l.94-2.06 2.06-.94-2.06-.94L8.5 2.5l-.94 2.06-2.06.94zm10 10l.94 2.06.94-2.06 2.06-.94-2.06-.94-.94-2.06-.94 2.06-2.06.94z\"/><path d=\"M17.41 7.96l-1.37-1.37c-.4-.4-.92-.59-1.43-.59-.52 0-1.04.2-1.43.59L10.3 9.45l-7.72 7.72c-.78.78-.78 2.05 0 2.83L4 21.41c.39.39.9.59 1.41.59.51 0 1.02-.2 1.41-.59l7.78-7.78 2.81-2.81c.8-.78.8-2.07 0-2.86zM5.41 20L4 18.59l7.72-7.72 1.47 1.35L5.41 20z\"/>\n",
              "  </svg>\n",
              "      </button>\n",
              "      \n",
              "  <style>\n",
              "    .colab-df-container {\n",
              "      display:flex;\n",
              "      flex-wrap:wrap;\n",
              "      gap: 12px;\n",
              "    }\n",
              "\n",
              "    .colab-df-convert {\n",
              "      background-color: #E8F0FE;\n",
              "      border: none;\n",
              "      border-radius: 50%;\n",
              "      cursor: pointer;\n",
              "      display: none;\n",
              "      fill: #1967D2;\n",
              "      height: 32px;\n",
              "      padding: 0 0 0 0;\n",
              "      width: 32px;\n",
              "    }\n",
              "\n",
              "    .colab-df-convert:hover {\n",
              "      background-color: #E2EBFA;\n",
              "      box-shadow: 0px 1px 2px rgba(60, 64, 67, 0.3), 0px 1px 3px 1px rgba(60, 64, 67, 0.15);\n",
              "      fill: #174EA6;\n",
              "    }\n",
              "\n",
              "    [theme=dark] .colab-df-convert {\n",
              "      background-color: #3B4455;\n",
              "      fill: #D2E3FC;\n",
              "    }\n",
              "\n",
              "    [theme=dark] .colab-df-convert:hover {\n",
              "      background-color: #434B5C;\n",
              "      box-shadow: 0px 1px 3px 1px rgba(0, 0, 0, 0.15);\n",
              "      filter: drop-shadow(0px 1px 2px rgba(0, 0, 0, 0.3));\n",
              "      fill: #FFFFFF;\n",
              "    }\n",
              "  </style>\n",
              "\n",
              "      <script>\n",
              "        const buttonEl =\n",
              "          document.querySelector('#df-cc3d9c26-fb64-4abd-ad0e-172a8ebe60d3 button.colab-df-convert');\n",
              "        buttonEl.style.display =\n",
              "          google.colab.kernel.accessAllowed ? 'block' : 'none';\n",
              "\n",
              "        async function convertToInteractive(key) {\n",
              "          const element = document.querySelector('#df-cc3d9c26-fb64-4abd-ad0e-172a8ebe60d3');\n",
              "          const dataTable =\n",
              "            await google.colab.kernel.invokeFunction('convertToInteractive',\n",
              "                                                     [key], {});\n",
              "          if (!dataTable) return;\n",
              "\n",
              "          const docLinkHtml = 'Like what you see? Visit the ' +\n",
              "            '<a target=\"_blank\" href=https://colab.research.google.com/notebooks/data_table.ipynb>data table notebook</a>'\n",
              "            + ' to learn more about interactive tables.';\n",
              "          element.innerHTML = '';\n",
              "          dataTable['output_type'] = 'display_data';\n",
              "          await google.colab.output.renderOutput(dataTable, element);\n",
              "          const docLink = document.createElement('div');\n",
              "          docLink.innerHTML = docLinkHtml;\n",
              "          element.appendChild(docLink);\n",
              "        }\n",
              "      </script>\n",
              "    </div>\n",
              "  </div>\n",
              "  "
            ]
          },
          "metadata": {},
          "execution_count": 42
        }
      ]
    },
    {
      "cell_type": "code",
      "source": [
        "##plotting\n",
        "df_tesla['Open'].resample(rule='A').mean().plot(kind='bar')"
      ],
      "metadata": {
        "colab": {
          "base_uri": "https://localhost:8080/",
          "height": 391
        },
        "id": "kw4PtDFXJ2_U",
        "outputId": "3f1e4ba9-561e-4937-b8c9-19561503680e"
      },
      "execution_count": 43,
      "outputs": [
        {
          "output_type": "execute_result",
          "data": {
            "text/plain": [
              "<matplotlib.axes._subplots.AxesSubplot at 0x7f901fc0e350>"
            ]
          },
          "metadata": {},
          "execution_count": 43
        },
        {
          "output_type": "display_data",
          "data": {
            "text/plain": [
              "<Figure size 432x288 with 1 Axes>"
            ],
            "image/png": "[encoded data removed]"
          },
          "metadata": {
            "needs_background": "light"
          }
        }
      ]
    },
    {
      "cell_type": "code",
      "source": [
        "df_tesla['Open'].resample(rule='M').max().plot(kind='bar',figsize=(15,6))"
      ],
      "metadata": {
        "colab": {
          "base_uri": "https://localhost:8080/",
          "height": 500
        },
        "id": "PzIt0arLK9fm",
        "outputId": "0bfbdefa-c9ec-480b-ba0e-c9ef349ca535"
      },
      "execution_count": 44,
      "outputs": [
        {
          "output_type": "execute_result",
          "data": {
            "text/plain": [
              "<matplotlib.axes._subplots.AxesSubplot at 0x7f901fc9f1d0>"
            ]
          },
          "metadata": {},
          "execution_count": 44
        },
        {
          "output_type": "display_data",
          "data": {
            "text/plain": [
              "<Figure size 1080x432 with 1 Axes>"
            ],
            "image/png": "[encoded data removed]"
          },
          "metadata": {
            "needs_background": "light"
          }
        }
      ]
    },
    {
      "cell_type": "markdown",
      "source": [
        "# STEP 6:Rolling function"
      ],
      "metadata": {
        "id": "hh7gq6SDLIOs"
      }
    },
    {
      "cell_type": "code",
      "source": [
        "df_tesla['High'].rolling(11).max().head(20)"
      ],
      "metadata": {
        "colab": {
          "base_uri": "https://localhost:8080/"
        },
        "id": "VUWxRwLKLDiN",
        "outputId": "151ad61a-e800-4d2a-de96-73c49c4d3bc9"
      },
      "execution_count": 45,
      "outputs": [
        {
          "output_type": "execute_result",
          "data": {
            "text/plain": [
              "Date\n",
              "2017-08-21          NaN\n",
              "2017-08-22          NaN\n",
              "2017-08-23          NaN\n",
              "2017-08-24          NaN\n",
              "2017-08-25          NaN\n",
              "2017-08-28          NaN\n",
              "2017-08-29          NaN\n",
              "2017-08-30          NaN\n",
              "2017-08-31          NaN\n",
              "2017-09-01          NaN\n",
              "2017-09-05    71.688004\n",
              "2017-09-06    71.688004\n",
              "2017-09-07    71.688004\n",
              "2017-09-08    71.688004\n",
              "2017-09-11    72.741997\n",
              "2017-09-12    73.751999\n",
              "2017-09-13    73.751999\n",
              "2017-09-14    75.592003\n",
              "2017-09-15    76.000000\n",
              "2017-09-18    77.921997\n",
              "Name: High, dtype: float64"
            ]
          },
          "metadata": {},
          "execution_count": 45
        }
      ]
    },
    {
      "cell_type": "code",
      "source": [
        "df_tesla.rolling(11,axis=0).max().head(20)"
      ],
      "metadata": {
        "colab": {
          "base_uri": "https://localhost:8080/",
          "height": 708
        },
        "id": "l-JokN7pNDin",
        "outputId": "202b17ff-4fd0-4cdc-e3d9-7db5134f665b"
      },
      "execution_count": 50,
      "outputs": [
        {
          "output_type": "execute_result",
          "data": {
            "text/plain": [
              "                 High        Low       Open      Close      Volume  Adj Close\n",
              "Date                                                                         \n",
              "2017-08-21        NaN        NaN        NaN        NaN         NaN        NaN\n",
              "2017-08-22        NaN        NaN        NaN        NaN         NaN        NaN\n",
              "2017-08-23        NaN        NaN        NaN        NaN         NaN        NaN\n",
              "2017-08-24        NaN        NaN        NaN        NaN         NaN        NaN\n",
              "2017-08-25        NaN        NaN        NaN        NaN         NaN        NaN\n",
              "2017-08-28        NaN        NaN        NaN        NaN         NaN        NaN\n",
              "2017-08-29        NaN        NaN        NaN        NaN         NaN        NaN\n",
              "2017-08-30        NaN        NaN        NaN        NaN         NaN        NaN\n",
              "2017-08-31        NaN        NaN        NaN        NaN         NaN        NaN\n",
              "2017-09-01        NaN        NaN        NaN        NaN         NaN        NaN\n",
              "2017-09-05  71.688004  70.737999  71.223999  71.180000  32477000.0  71.180000\n",
              "2017-09-06  71.688004  70.737999  71.223999  71.180000  24772500.0  71.180000\n",
              "2017-09-07  71.688004  70.737999  71.223999  71.180000  24772500.0  71.180000\n",
              "2017-09-08  71.688004  70.737999  71.223999  71.180000  22923500.0  71.180000\n",
              "2017-09-11  72.741997  70.737999  71.223999  72.737999  38335500.0  72.737999\n",
              "2017-09-12  73.751999  72.080002  72.898003  72.737999  38335500.0  72.737999\n",
              "2017-09-13  73.751999  72.080002  72.898003  73.246002  38335500.0  73.246002\n",
              "2017-09-14  75.592003  72.526001  72.898003  75.528000  38335500.0  75.528000\n",
              "2017-09-15  76.000000  74.540001  74.902000  75.961998  38335500.0  75.961998\n",
              "2017-09-18  77.921997  75.536003  76.050003  77.000000  38335500.0  77.000000"
            ],
            "text/html": [
              "\n",
              "  <div id=\"df-cd080668-574b-4b05-b197-5739f1ade196\">\n",
              "    <div class=\"colab-df-container\">\n",
              "      <div>\n",
              "<style scoped>\n",
              "    .dataframe tbody tr th:only-of-type {\n",
              "        vertical-align: middle;\n",
              "    }\n",
              "\n",
              "    .dataframe tbody tr th {\n",
              "        vertical-align: top;\n",
              "    }\n",
              "\n",
              "    .dataframe thead th {\n",
              "        text-align: right;\n",
              "    }\n",
              "</style>\n",
              "<table border=\"1\" class=\"dataframe\">\n",
              "  <thead>\n",
              "    <tr style=\"text-align: right;\">\n",
              "      <th></th>\n",
              "      <th>High</th>\n",
              "      <th>Low</th>\n",
              "      <th>Open</th>\n",
              "      <th>Close</th>\n",
              "      <th>Volume</th>\n",
              "      <th>Adj Close</th>\n",
              "    </tr>\n",
              "    <tr>\n",
              "      <th>Date</th>\n",
              "      <th></th>\n",
              "      <th></th>\n",
              "      <th></th>\n",
              "      <th></th>\n",
              "      <th></th>\n",
              "      <th></th>\n",
              "    </tr>\n",
              "  </thead>\n",
              "  <tbody>\n",
              "    <tr>\n",
              "      <th>2017-08-21</th>\n",
              "      <td>NaN</td>\n",
              "      <td>NaN</td>\n",
              "      <td>NaN</td>\n",
              "      <td>NaN</td>\n",
              "      <td>NaN</td>\n",
              "      <td>NaN</td>\n",
              "    </tr>\n",
              "    <tr>\n",
              "      <th>2017-08-22</th>\n",
              "      <td>NaN</td>\n",
              "      <td>NaN</td>\n",
              "      <td>NaN</td>\n",
              "      <td>NaN</td>\n",
              "      <td>NaN</td>\n",
              "      <td>NaN</td>\n",
              "    </tr>\n",
              "    <tr>\n",
              "      <th>2017-08-23</th>\n",
              "      <td>NaN</td>\n",
              "      <td>NaN</td>\n",
              "      <td>NaN</td>\n",
              "      <td>NaN</td>\n",
              "      <td>NaN</td>\n",
              "      <td>NaN</td>\n",
              "    </tr>\n",
              "    <tr>\n",
              "      <th>2017-08-24</th>\n",
              "      <td>NaN</td>\n",
              "      <td>NaN</td>\n",
              "      <td>NaN</td>\n",
              "      <td>NaN</td>\n",
              "      <td>NaN</td>\n",
              "      <td>NaN</td>\n",
              "    </tr>\n",
              "    <tr>\n",
              "      <th>2017-08-25</th>\n",
              "      <td>NaN</td>\n",
              "      <td>NaN</td>\n",
              "      <td>NaN</td>\n",
              "      <td>NaN</td>\n",
              "      <td>NaN</td>\n",
              "      <td>NaN</td>\n",
              "    </tr>\n",
              "    <tr>\n",
              "      <th>2017-08-28</th>\n",
              "      <td>NaN</td>\n",
              "      <td>NaN</td>\n",
              "      <td>NaN</td>\n",
              "      <td>NaN</td>\n",
              "      <td>NaN</td>\n",
              "      <td>NaN</td>\n",
              "    </tr>\n",
              "    <tr>\n",
              "      <th>2017-08-29</th>\n",
              "      <td>NaN</td>\n",
              "      <td>NaN</td>\n",
              "      <td>NaN</td>\n",
              "      <td>NaN</td>\n",
              "      <td>NaN</td>\n",
              "      <td>NaN</td>\n",
              "    </tr>\n",
              "    <tr>\n",
              "      <th>2017-08-30</th>\n",
              "      <td>NaN</td>\n",
              "      <td>NaN</td>\n",
              "      <td>NaN</td>\n",
              "      <td>NaN</td>\n",
              "      <td>NaN</td>\n",
              "      <td>NaN</td>\n",
              "    </tr>\n",
              "    <tr>\n",
              "      <th>2017-08-31</th>\n",
              "      <td>NaN</td>\n",
              "      <td>NaN</td>\n",
              "      <td>NaN</td>\n",
              "      <td>NaN</td>\n",
              "      <td>NaN</td>\n",
              "      <td>NaN</td>\n",
              "    </tr>\n",
              "    <tr>\n",
              "      <th>2017-09-01</th>\n",
              "      <td>NaN</td>\n",
              "      <td>NaN</td>\n",
              "      <td>NaN</td>\n",
              "      <td>NaN</td>\n",
              "      <td>NaN</td>\n",
              "      <td>NaN</td>\n",
              "    </tr>\n",
              "    <tr>\n",
              "      <th>2017-09-05</th>\n",
              "      <td>71.688004</td>\n",
              "      <td>70.737999</td>\n",
              "      <td>71.223999</td>\n",
              "      <td>71.180000</td>\n",
              "      <td>32477000.0</td>\n",
              "      <td>71.180000</td>\n",
              "    </tr>\n",
              "    <tr>\n",
              "      <th>2017-09-06</th>\n",
              "      <td>71.688004</td>\n",
              "      <td>70.737999</td>\n",
              "      <td>71.223999</td>\n",
              "      <td>71.180000</td>\n",
              "      <td>24772500.0</td>\n",
              "      <td>71.180000</td>\n",
              "    </tr>\n",
              "    <tr>\n",
              "      <th>2017-09-07</th>\n",
              "      <td>71.688004</td>\n",
              "      <td>70.737999</td>\n",
              "      <td>71.223999</td>\n",
              "      <td>71.180000</td>\n",
              "      <td>24772500.0</td>\n",
              "      <td>71.180000</td>\n",
              "    </tr>\n",
              "    <tr>\n",
              "      <th>2017-09-08</th>\n",
              "      <td>71.688004</td>\n",
              "      <td>70.737999</td>\n",
              "      <td>71.223999</td>\n",
              "      <td>71.180000</td>\n",
              "      <td>22923500.0</td>\n",
              "      <td>71.180000</td>\n",
              "    </tr>\n",
              "    <tr>\n",
              "      <th>2017-09-11</th>\n",
              "      <td>72.741997</td>\n",
              "      <td>70.737999</td>\n",
              "      <td>71.223999</td>\n",
              "      <td>72.737999</td>\n",
              "      <td>38335500.0</td>\n",
              "      <td>72.737999</td>\n",
              "    </tr>\n",
              "    <tr>\n",
              "      <th>2017-09-12</th>\n",
              "      <td>73.751999</td>\n",
              "      <td>72.080002</td>\n",
              "      <td>72.898003</td>\n",
              "      <td>72.737999</td>\n",
              "      <td>38335500.0</td>\n",
              "      <td>72.737999</td>\n",
              "    </tr>\n",
              "    <tr>\n",
              "      <th>2017-09-13</th>\n",
              "      <td>73.751999</td>\n",
              "      <td>72.080002</td>\n",
              "      <td>72.898003</td>\n",
              "      <td>73.246002</td>\n",
              "      <td>38335500.0</td>\n",
              "      <td>73.246002</td>\n",
              "    </tr>\n",
              "    <tr>\n",
              "      <th>2017-09-14</th>\n",
              "      <td>75.592003</td>\n",
              "      <td>72.526001</td>\n",
              "      <td>72.898003</td>\n",
              "      <td>75.528000</td>\n",
              "      <td>38335500.0</td>\n",
              "      <td>75.528000</td>\n",
              "    </tr>\n",
              "    <tr>\n",
              "      <th>2017-09-15</th>\n",
              "      <td>76.000000</td>\n",
              "      <td>74.540001</td>\n",
              "      <td>74.902000</td>\n",
              "      <td>75.961998</td>\n",
              "      <td>38335500.0</td>\n",
              "      <td>75.961998</td>\n",
              "    </tr>\n",
              "    <tr>\n",
              "      <th>2017-09-18</th>\n",
              "      <td>77.921997</td>\n",
              "      <td>75.536003</td>\n",
              "      <td>76.050003</td>\n",
              "      <td>77.000000</td>\n",
              "      <td>38335500.0</td>\n",
              "      <td>77.000000</td>\n",
              "    </tr>\n",
              "  </tbody>\n",
              "</table>\n",
              "</div>\n",
              "      <button class=\"colab-df-convert\" onclick=\"convertToInteractive('df-cd080668-574b-4b05-b197-5739f1ade196')\"\n",
              "              title=\"Convert this dataframe to an interactive table.\"\n",
              "              style=\"display:none;\">\n",
              "        \n",
              "  <svg xmlns=\"http://www.w3.org/2000/svg\" height=\"24px\"viewBox=\"0 0 24 24\"\n",
              "       width=\"24px\">\n",
              "    <path d=\"M0 0h24v24H0V0z\" fill=\"none\"/>\n",
              "    <path d=\"M18.56 5.44l.94 2.06.94-2.06 2.06-.94-2.06-.94-.94-2.06-.94 2.06-2.06.94zm-11 1L8.5 8.5l.94-2.06 2.06-.94-2.06-.94L8.5 2.5l-.94 2.06-2.06.94zm10 10l.94 2.06.94-2.06 2.06-.94-2.06-.94-.94-2.06-.94 2.06-2.06.94z\"/><path d=\"M17.41 7.96l-1.37-1.37c-.4-.4-.92-.59-1.43-.59-.52 0-1.04.2-1.43.59L10.3 9.45l-7.72 7.72c-.78.78-.78 2.05 0 2.83L4 21.41c.39.39.9.59 1.41.59.51 0 1.02-.2 1.41-.59l7.78-7.78 2.81-2.81c.8-.78.8-2.07 0-2.86zM5.41 20L4 18.59l7.72-7.72 1.47 1.35L5.41 20z\"/>\n",
              "  </svg>\n",
              "      </button>\n",
              "      \n",
              "  <style>\n",
              "    .colab-df-container {\n",
              "      display:flex;\n",
              "      flex-wrap:wrap;\n",
              "      gap: 12px;\n",
              "    }\n",
              "\n",
              "    .colab-df-convert {\n",
              "      background-color: #E8F0FE;\n",
              "      border: none;\n",
              "      border-radius: 50%;\n",
              "      cursor: pointer;\n",
              "      display: none;\n",
              "      fill: #1967D2;\n",
              "      height: 32px;\n",
              "      padding: 0 0 0 0;\n",
              "      width: 32px;\n",
              "    }\n",
              "\n",
              "    .colab-df-convert:hover {\n",
              "      background-color: #E2EBFA;\n",
              "      box-shadow: 0px 1px 2px rgba(60, 64, 67, 0.3), 0px 1px 3px 1px rgba(60, 64, 67, 0.15);\n",
              "      fill: #174EA6;\n",
              "    }\n",
              "\n",
              "    [theme=dark] .colab-df-convert {\n",
              "      background-color: #3B4455;\n",
              "      fill: #D2E3FC;\n",
              "    }\n",
              "\n",
              "    [theme=dark] .colab-df-convert:hover {\n",
              "      background-color: #434B5C;\n",
              "      box-shadow: 0px 1px 3px 1px rgba(0, 0, 0, 0.15);\n",
              "      filter: drop-shadow(0px 1px 2px rgba(0, 0, 0, 0.3));\n",
              "      fill: #FFFFFF;\n",
              "    }\n",
              "  </style>\n",
              "\n",
              "      <script>\n",
              "        const buttonEl =\n",
              "          document.querySelector('#df-cd080668-574b-4b05-b197-5739f1ade196 button.colab-df-convert');\n",
              "        buttonEl.style.display =\n",
              "          google.colab.kernel.accessAllowed ? 'block' : 'none';\n",
              "\n",
              "        async function convertToInteractive(key) {\n",
              "          const element = document.querySelector('#df-cd080668-574b-4b05-b197-5739f1ade196');\n",
              "          const dataTable =\n",
              "            await google.colab.kernel.invokeFunction('convertToInteractive',\n",
              "                                                     [key], {});\n",
              "          if (!dataTable) return;\n",
              "\n",
              "          const docLinkHtml = 'Like what you see? Visit the ' +\n",
              "            '<a target=\"_blank\" href=https://colab.research.google.com/notebooks/data_table.ipynb>data table notebook</a>'\n",
              "            + ' to learn more about interactive tables.';\n",
              "          element.innerHTML = '';\n",
              "          dataTable['output_type'] = 'display_data';\n",
              "          await google.colab.output.renderOutput(dataTable, element);\n",
              "          const docLink = document.createElement('div');\n",
              "          docLink.innerHTML = docLinkHtml;\n",
              "          element.appendChild(docLink);\n",
              "        }\n",
              "      </script>\n",
              "    </div>\n",
              "  </div>\n",
              "  "
            ]
          },
          "metadata": {},
          "execution_count": 50
        }
      ]
    },
    {
      "cell_type": "code",
      "source": [
        "df_tesla['Open:30 days rolling']=df_tesla['Open'].rolling(30).mean()"
      ],
      "metadata": {
        "id": "6BEZRl3oNFgh"
      },
      "execution_count": 51,
      "outputs": []
    },
    {
      "cell_type": "code",
      "source": [
        "\n",
        "df_tesla[['Open','Open:30 days rolling']].plot(figsize=(12,5))"
      ],
      "metadata": {
        "colab": {
          "base_uri": "https://localhost:8080/",
          "height": 335
        },
        "id": "2jSl8u9bNwMV",
        "outputId": "57452ef2-bb5a-4233-dd0b-c24acd380580"
      },
      "execution_count": 52,
      "outputs": [
        {
          "output_type": "execute_result",
          "data": {
            "text/plain": [
              "<matplotlib.axes._subplots.AxesSubplot at 0x7f901f8e6990>"
            ]
          },
          "metadata": {},
          "execution_count": 52
        },
        {
          "output_type": "display_data",
          "data": {
            "text/plain": [
              "<Figure size 864x360 with 1 Axes>"
            ],
            "image/png": "[encoded data removed]"
          },
          "metadata": {
            "needs_background": "light"
          }
        }
      ]
    },
    {
      "cell_type": "markdown",
      "source": [
        "# Assignment"
      ],
      "metadata": {
        "id": "thAv84SaOIad"
      }
    },
    {
      "cell_type": "code",
      "source": [
        "#Read the Microsoft Data using Pandas Data reader\n",
        "\n",
        "\n",
        "df_micr=pdr.get_data_yahoo('MSFT')"
      ],
      "metadata": {
        "id": "qvC8kH1qNyPf"
      },
      "execution_count": 53,
      "outputs": []
    },
    {
      "cell_type": "code",
      "source": [
        "df_micr"
      ],
      "metadata": {
        "colab": {
          "base_uri": "https://localhost:8080/",
          "height": 455
        },
        "id": "zHM9FF_5ZWLP",
        "outputId": "de03cddc-885f-441c-b747-be90eea154aa"
      },
      "execution_count": 54,
      "outputs": [
        {
          "output_type": "execute_result",
          "data": {
            "text/plain": [
              "                  High         Low        Open       Close      Volume  \\\n",
              "Date                                                                     \n",
              "2017-08-21   72.480003   71.699997   72.470001   72.150002  17734800.0   \n",
              "2017-08-22   73.239998   72.349998   72.349998   73.160004  14343700.0   \n",
              "2017-08-23   73.150002   72.529999   72.959999   72.720001  13766500.0   \n",
              "2017-08-24   72.860001   72.070000   72.739998   72.690002  17098300.0   \n",
              "2017-08-25   73.349998   72.480003   72.860001   72.820000  12794300.0   \n",
              "...                ...         ...         ...         ...         ...   \n",
              "2022-08-15  294.179993  290.109985  291.000000  293.470001  18085700.0   \n",
              "2022-08-16  294.040009  290.420013  291.989990  292.709991  18102900.0   \n",
              "2022-08-17  293.350006  289.470001  289.739990  291.320007  18253400.0   \n",
              "2022-08-18  291.910004  289.079987  290.190002  290.170013  17186200.0   \n",
              "2022-08-19  289.250000  285.559998  288.899994  286.149994  20557200.0   \n",
              "\n",
              "             Adj Close  \n",
              "Date                    \n",
              "2017-08-21   67.795731  \n",
              "2017-08-22   68.744766  \n",
              "2017-08-23   68.331314  \n",
              "2017-08-24   68.303139  \n",
              "2017-08-25   68.425293  \n",
              "...                ...  \n",
              "2022-08-15  292.848389  \n",
              "2022-08-16  292.089996  \n",
              "2022-08-17  291.320007  \n",
              "2022-08-18  290.170013  \n",
              "2022-08-19  286.149994  \n",
              "\n",
              "[1259 rows x 6 columns]"
            ],
            "text/html": [
              "\n",
              "  <div id=\"df-88ae8e85-b5ec-4239-bf80-32a9471465bb\">\n",
              "    <div class=\"colab-df-container\">\n",
              "      <div>\n",
              "<style scoped>\n",
              "    .dataframe tbody tr th:only-of-type {\n",
              "        vertical-align: middle;\n",
              "    }\n",
              "\n",
              "    .dataframe tbody tr th {\n",
              "        vertical-align: top;\n",
              "    }\n",
              "\n",
              "    .dataframe thead th {\n",
              "        text-align: right;\n",
              "    }\n",
              "</style>\n",
              "<table border=\"1\" class=\"dataframe\">\n",
              "  <thead>\n",
              "    <tr style=\"text-align: right;\">\n",
              "      <th></th>\n",
              "      <th>High</th>\n",
              "      <th>Low</th>\n",
              "      <th>Open</th>\n",
              "      <th>Close</th>\n",
              "      <th>Volume</th>\n",
              "      <th>Adj Close</th>\n",
              "    </tr>\n",
              "    <tr>\n",
              "      <th>Date</th>\n",
              "      <th></th>\n",
              "      <th></th>\n",
              "      <th></th>\n",
              "      <th></th>\n",
              "      <th></th>\n",
              "      <th></th>\n",
              "    </tr>\n",
              "  </thead>\n",
              "  <tbody>\n",
              "    <tr>\n",
              "      <th>2017-08-21</th>\n",
              "      <td>72.480003</td>\n",
              "      <td>71.699997</td>\n",
              "      <td>72.470001</td>\n",
              "      <td>72.150002</td>\n",
              "      <td>17734800.0</td>\n",
              "      <td>67.795731</td>\n",
              "    </tr>\n",
              "    <tr>\n",
              "      <th>2017-08-22</th>\n",
              "      <td>73.239998</td>\n",
              "      <td>72.349998</td>\n",
              "      <td>72.349998</td>\n",
              "      <td>73.160004</td>\n",
              "      <td>14343700.0</td>\n",
              "      <td>68.744766</td>\n",
              "    </tr>\n",
              "    <tr>\n",
              "      <th>2017-08-23</th>\n",
              "      <td>73.150002</td>\n",
              "      <td>72.529999</td>\n",
              "      <td>72.959999</td>\n",
              "      <td>72.720001</td>\n",
              "      <td>13766500.0</td>\n",
              "      <td>68.331314</td>\n",
              "    </tr>\n",
              "    <tr>\n",
              "      <th>2017-08-24</th>\n",
              "      <td>72.860001</td>\n",
              "      <td>72.070000</td>\n",
              "      <td>72.739998</td>\n",
              "      <td>72.690002</td>\n",
              "      <td>17098300.0</td>\n",
              "      <td>68.303139</td>\n",
              "    </tr>\n",
              "    <tr>\n",
              "      <th>2017-08-25</th>\n",
              "      <td>73.349998</td>\n",
              "      <td>72.480003</td>\n",
              "      <td>72.860001</td>\n",
              "      <td>72.820000</td>\n",
              "      <td>12794300.0</td>\n",
              "      <td>68.425293</td>\n",
              "    </tr>\n",
              "    <tr>\n",
              "      <th>...</th>\n",
              "      <td>...</td>\n",
              "      <td>...</td>\n",
              "      <td>...</td>\n",
              "      <td>...</td>\n",
              "      <td>...</td>\n",
              "      <td>...</td>\n",
              "    </tr>\n",
              "    <tr>\n",
              "      <th>2022-08-15</th>\n",
              "      <td>294.179993</td>\n",
              "      <td>290.109985</td>\n",
              "      <td>291.000000</td>\n",
              "      <td>293.470001</td>\n",
              "      <td>18085700.0</td>\n",
              "      <td>292.848389</td>\n",
              "    </tr>\n",
              "    <tr>\n",
              "      <th>2022-08-16</th>\n",
              "      <td>294.040009</td>\n",
              "      <td>290.420013</td>\n",
              "      <td>291.989990</td>\n",
              "      <td>292.709991</td>\n",
              "      <td>18102900.0</td>\n",
              "      <td>292.089996</td>\n",
              "    </tr>\n",
              "    <tr>\n",
              "      <th>2022-08-17</th>\n",
              "      <td>293.350006</td>\n",
              "      <td>289.470001</td>\n",
              "      <td>289.739990</td>\n",
              "      <td>291.320007</td>\n",
              "      <td>18253400.0</td>\n",
              "      <td>291.320007</td>\n",
              "    </tr>\n",
              "    <tr>\n",
              "      <th>2022-08-18</th>\n",
              "      <td>291.910004</td>\n",
              "      <td>289.079987</td>\n",
              "      <td>290.190002</td>\n",
              "      <td>290.170013</td>\n",
              "      <td>17186200.0</td>\n",
              "      <td>290.170013</td>\n",
              "    </tr>\n",
              "    <tr>\n",
              "      <th>2022-08-19</th>\n",
              "      <td>289.250000</td>\n",
              "      <td>285.559998</td>\n",
              "      <td>288.899994</td>\n",
              "      <td>286.149994</td>\n",
              "      <td>20557200.0</td>\n",
              "      <td>286.149994</td>\n",
              "    </tr>\n",
              "  </tbody>\n",
              "</table>\n",
              "<p>1259 rows × 6 columns</p>\n",
              "</div>\n",
              "      <button class=\"colab-df-convert\" onclick=\"convertToInteractive('df-88ae8e85-b5ec-4239-bf80-32a9471465bb')\"\n",
              "              title=\"Convert this dataframe to an interactive table.\"\n",
              "              style=\"display:none;\">\n",
              "        \n",
              "  <svg xmlns=\"http://www.w3.org/2000/svg\" height=\"24px\"viewBox=\"0 0 24 24\"\n",
              "       width=\"24px\">\n",
              "    <path d=\"M0 0h24v24H0V0z\" fill=\"none\"/>\n",
              "    <path d=\"M18.56 5.44l.94 2.06.94-2.06 2.06-.94-2.06-.94-.94-2.06-.94 2.06-2.06.94zm-11 1L8.5 8.5l.94-2.06 2.06-.94-2.06-.94L8.5 2.5l-.94 2.06-2.06.94zm10 10l.94 2.06.94-2.06 2.06-.94-2.06-.94-.94-2.06-.94 2.06-2.06.94z\"/><path d=\"M17.41 7.96l-1.37-1.37c-.4-.4-.92-.59-1.43-.59-.52 0-1.04.2-1.43.59L10.3 9.45l-7.72 7.72c-.78.78-.78 2.05 0 2.83L4 21.41c.39.39.9.59 1.41.59.51 0 1.02-.2 1.41-.59l7.78-7.78 2.81-2.81c.8-.78.8-2.07 0-2.86zM5.41 20L4 18.59l7.72-7.72 1.47 1.35L5.41 20z\"/>\n",
              "  </svg>\n",
              "      </button>\n",
              "      \n",
              "  <style>\n",
              "    .colab-df-container {\n",
              "      display:flex;\n",
              "      flex-wrap:wrap;\n",
              "      gap: 12px;\n",
              "    }\n",
              "\n",
              "    .colab-df-convert {\n",
              "      background-color: #E8F0FE;\n",
              "      border: none;\n",
              "      border-radius: 50%;\n",
              "      cursor: pointer;\n",
              "      display: none;\n",
              "      fill: #1967D2;\n",
              "      height: 32px;\n",
              "      padding: 0 0 0 0;\n",
              "      width: 32px;\n",
              "    }\n",
              "\n",
              "    .colab-df-convert:hover {\n",
              "      background-color: #E2EBFA;\n",
              "      box-shadow: 0px 1px 2px rgba(60, 64, 67, 0.3), 0px 1px 3px 1px rgba(60, 64, 67, 0.15);\n",
              "      fill: #174EA6;\n",
              "    }\n",
              "\n",
              "    [theme=dark] .colab-df-convert {\n",
              "      background-color: #3B4455;\n",
              "      fill: #D2E3FC;\n",
              "    }\n",
              "\n",
              "    [theme=dark] .colab-df-convert:hover {\n",
              "      background-color: #434B5C;\n",
              "      box-shadow: 0px 1px 3px 1px rgba(0, 0, 0, 0.15);\n",
              "      filter: drop-shadow(0px 1px 2px rgba(0, 0, 0, 0.3));\n",
              "      fill: #FFFFFF;\n",
              "    }\n",
              "  </style>\n",
              "\n",
              "      <script>\n",
              "        const buttonEl =\n",
              "          document.querySelector('#df-88ae8e85-b5ec-4239-bf80-32a9471465bb button.colab-df-convert');\n",
              "        buttonEl.style.display =\n",
              "          google.colab.kernel.accessAllowed ? 'block' : 'none';\n",
              "\n",
              "        async function convertToInteractive(key) {\n",
              "          const element = document.querySelector('#df-88ae8e85-b5ec-4239-bf80-32a9471465bb');\n",
              "          const dataTable =\n",
              "            await google.colab.kernel.invokeFunction('convertToInteractive',\n",
              "                                                     [key], {});\n",
              "          if (!dataTable) return;\n",
              "\n",
              "          const docLinkHtml = 'Like what you see? Visit the ' +\n",
              "            '<a target=\"_blank\" href=https://colab.research.google.com/notebooks/data_table.ipynb>data table notebook</a>'\n",
              "            + ' to learn more about interactive tables.';\n",
              "          element.innerHTML = '';\n",
              "          dataTable['output_type'] = 'display_data';\n",
              "          await google.colab.output.renderOutput(dataTable, element);\n",
              "          const docLink = document.createElement('div');\n",
              "          docLink.innerHTML = docLinkHtml;\n",
              "          element.appendChild(docLink);\n",
              "        }\n",
              "      </script>\n",
              "    </div>\n",
              "  </div>\n",
              "  "
            ]
          },
          "metadata": {},
          "execution_count": 54
        }
      ]
    },
    {
      "cell_type": "code",
      "source": [
        "#2.Get the maximum price of the share from 2017 to 2022\n",
        "\n",
        "print(df_micr[\"High\"].max())"
      ],
      "metadata": {
        "colab": {
          "base_uri": "https://localhost:8080/"
        },
        "id": "NRBI6EaNZhgB",
        "outputId": "58eeb17c-01e9-441c-ec0d-014b13893cdb"
      },
      "execution_count": 61,
      "outputs": [
        {
          "output_type": "stream",
          "name": "stdout",
          "text": [
            "349.6700134277344\n"
          ]
        }
      ]
    },
    {
      "cell_type": "code",
      "source": [
        "print(df_micr[df_micr.High==df_micr[\"High\"].max()].index[0])"
      ],
      "metadata": {
        "colab": {
          "base_uri": "https://localhost:8080/"
        },
        "id": "xsEfsOX0ZuDn",
        "outputId": "9e90449e-e9c3-4e1a-8819-294148883a41"
      },
      "execution_count": 67,
      "outputs": [
        {
          "output_type": "stream",
          "name": "stdout",
          "text": [
            "2021-11-22 00:00:00\n"
          ]
        }
      ]
    },
    {
      "cell_type": "code",
      "source": [
        "#Which is the date of the lowest price of the stock?\n",
        "\n",
        "print(df_micr[df_micr.Low==df_micr[\"Low\"].min()].index[0])"
      ],
      "metadata": {
        "colab": {
          "base_uri": "https://localhost:8080/"
        },
        "id": "oaVLc67vaJjn",
        "outputId": "b4f8fa57-1cd1-4566-d05d-8f3e37bd45d2"
      },
      "execution_count": 69,
      "outputs": [
        {
          "output_type": "stream",
          "name": "stdout",
          "text": [
            "2017-08-21 00:00:00\n"
          ]
        }
      ]
    },
    {
      "cell_type": "code",
      "source": [
        ""
      ],
      "metadata": {
        "id": "Ic4z81pJbIKJ"
      },
      "execution_count": null,
      "outputs": []
    },
    {
      "cell_type": "markdown",
      "source": [
        "# STEP 7:Simple Moving Average"
      ],
      "metadata": {
        "id": "-DOY8vxam3Sd"
      }
    },
    {
      "cell_type": "code",
      "source": [
        "df_tesla['Open:30 days rolling']=df_tesla['Open'].rolling(window=30,min_periods=1).mean()\n",
        "df_tesla['Open:40 days rolling']=df_tesla['Open'].rolling(window=40,min_periods=1).mean()\n",
        "df_tesla['Open:50 days rolling']=df_tesla['Open'].rolling(window=50,min_periods=1).mean()\n",
        "df_tesla['Open:60 days rolling']=df_tesla['Open'].rolling(window=60,min_periods=1).mean()"
      ],
      "metadata": {
        "id": "3zJUVv7nm5cq"
      },
      "execution_count": 76,
      "outputs": []
    },
    {
      "cell_type": "code",
      "source": [
        "df_tesla"
      ],
      "metadata": {
        "colab": {
          "base_uri": "https://localhost:8080/",
          "height": 499
        },
        "id": "X22VtInnnnHH",
        "outputId": "4358d4be-20f5-4424-d6e4-d645feda3da6"
      },
      "execution_count": 77,
      "outputs": [
        {
          "output_type": "execute_result",
          "data": {
            "text/plain": [
              "                  High         Low        Open       Close      Volume  \\\n",
              "Date                                                                     \n",
              "2017-08-21   69.164001   66.370003   69.164001   67.571999  32477000.0   \n",
              "2017-08-22   68.447998   67.473999   68.225998   68.269997  21610000.0   \n",
              "2017-08-23   70.697998   67.660004   67.797997   70.554001  24772500.0   \n",
              "2017-08-24   71.332001   69.947998   70.503998   70.585999  22923500.0   \n",
              "2017-08-25   71.138000   69.459999   70.848000   69.610001  17420000.0   \n",
              "...                ...         ...         ...         ...         ...   \n",
              "2022-08-15  939.400024  903.690002  905.359985  927.960022  29786400.0   \n",
              "2022-08-16  944.000000  908.650024  935.000000  919.690002  29378800.0   \n",
              "2022-08-17  928.969971  900.099976  910.190002  911.989990  22922000.0   \n",
              "2022-08-18  919.500000  905.559998  918.000000  908.609985  15833500.0   \n",
              "2022-08-19  901.080017  877.500000  897.000000  890.000000  20417900.0   \n",
              "\n",
              "             Adj Close  Open:30 days rolling  Open:10 days rolling  \\\n",
              "Date                                                                 \n",
              "2017-08-21   67.571999             69.164001             69.164001   \n",
              "2017-08-22   68.269997             68.695000             68.695000   \n",
              "2017-08-23   70.554001             68.395999             68.395999   \n",
              "2017-08-24   70.585999             68.922998             68.922998   \n",
              "2017-08-25   69.610001             69.307999             69.307999   \n",
              "...                ...                   ...                   ...   \n",
              "2022-08-15  927.960022            803.475999            803.475999   \n",
              "2022-08-16  919.690002            812.342666            812.342666   \n",
              "2022-08-17  911.989990            819.604331            819.604331   \n",
              "2022-08-18  908.609985            826.812331            826.812331   \n",
              "2022-08-19  890.000000            832.478998            832.478998   \n",
              "\n",
              "            Open:40 days rolling  Open:50 days rolling  Open:60 days rolling  \n",
              "Date                                                                          \n",
              "2017-08-21             69.164001             69.164001             69.164001  \n",
              "2017-08-22             68.695000             68.695000             68.695000  \n",
              "2017-08-23             68.395999             68.395999             68.395999  \n",
              "2017-08-24             68.922998             68.922998             68.922998  \n",
              "2017-08-25             69.307999             69.307999             69.307999  \n",
              "...                          ...                   ...                   ...  \n",
              "2022-08-15            776.890248            761.388398            751.149165  \n",
              "2022-08-16            784.257748            765.494799            754.949165  \n",
              "2022-08-17            790.167249            769.037399            758.219165  \n",
              "2022-08-18            795.529498            773.357399            762.602165  \n",
              "2022-08-19            800.111499            776.892198            766.659998  \n",
              "\n",
              "[1259 rows x 11 columns]"
            ],
            "text/html": [
              "\n",
              "  <div id=\"df-43bd7048-d439-475e-bb64-89f958703961\">\n",
              "    <div class=\"colab-df-container\">\n",
              "      <div>\n",
              "<style scoped>\n",
              "    .dataframe tbody tr th:only-of-type {\n",
              "        vertical-align: middle;\n",
              "    }\n",
              "\n",
              "    .dataframe tbody tr th {\n",
              "        vertical-align: top;\n",
              "    }\n",
              "\n",
              "    .dataframe thead th {\n",
              "        text-align: right;\n",
              "    }\n",
              "</style>\n",
              "<table border=\"1\" class=\"dataframe\">\n",
              "  <thead>\n",
              "    <tr style=\"text-align: right;\">\n",
              "      <th></th>\n",
              "      <th>High</th>\n",
              "      <th>Low</th>\n",
              "      <th>Open</th>\n",
              "      <th>Close</th>\n",
              "      <th>Volume</th>\n",
              "      <th>Adj Close</th>\n",
              "      <th>Open:30 days rolling</th>\n",
              "      <th>Open:10 days rolling</th>\n",
              "      <th>Open:40 days rolling</th>\n",
              "      <th>Open:50 days rolling</th>\n",
              "      <th>Open:60 days rolling</th>\n",
              "    </tr>\n",
              "    <tr>\n",
              "      <th>Date</th>\n",
              "      <th></th>\n",
              "      <th></th>\n",
              "      <th></th>\n",
              "      <th></th>\n",
              "      <th></th>\n",
              "      <th></th>\n",
              "      <th></th>\n",
              "      <th></th>\n",
              "      <th></th>\n",
              "      <th></th>\n",
              "      <th></th>\n",
              "    </tr>\n",
              "  </thead>\n",
              "  <tbody>\n",
              "    <tr>\n",
              "      <th>2017-08-21</th>\n",
              "      <td>69.164001</td>\n",
              "      <td>66.370003</td>\n",
              "      <td>69.164001</td>\n",
              "      <td>67.571999</td>\n",
              "      <td>32477000.0</td>\n",
              "      <td>67.571999</td>\n",
              "      <td>69.164001</td>\n",
              "      <td>69.164001</td>\n",
              "      <td>69.164001</td>\n",
              "      <td>69.164001</td>\n",
              "      <td>69.164001</td>\n",
              "    </tr>\n",
              "    <tr>\n",
              "      <th>2017-08-22</th>\n",
              "      <td>68.447998</td>\n",
              "      <td>67.473999</td>\n",
              "      <td>68.225998</td>\n",
              "      <td>68.269997</td>\n",
              "      <td>21610000.0</td>\n",
              "      <td>68.269997</td>\n",
              "      <td>68.695000</td>\n",
              "      <td>68.695000</td>\n",
              "      <td>68.695000</td>\n",
              "      <td>68.695000</td>\n",
              "      <td>68.695000</td>\n",
              "    </tr>\n",
              "    <tr>\n",
              "      <th>2017-08-23</th>\n",
              "      <td>70.697998</td>\n",
              "      <td>67.660004</td>\n",
              "      <td>67.797997</td>\n",
              "      <td>70.554001</td>\n",
              "      <td>24772500.0</td>\n",
              "      <td>70.554001</td>\n",
              "      <td>68.395999</td>\n",
              "      <td>68.395999</td>\n",
              "      <td>68.395999</td>\n",
              "      <td>68.395999</td>\n",
              "      <td>68.395999</td>\n",
              "    </tr>\n",
              "    <tr>\n",
              "      <th>2017-08-24</th>\n",
              "      <td>71.332001</td>\n",
              "      <td>69.947998</td>\n",
              "      <td>70.503998</td>\n",
              "      <td>70.585999</td>\n",
              "      <td>22923500.0</td>\n",
              "      <td>70.585999</td>\n",
              "      <td>68.922998</td>\n",
              "      <td>68.922998</td>\n",
              "      <td>68.922998</td>\n",
              "      <td>68.922998</td>\n",
              "      <td>68.922998</td>\n",
              "    </tr>\n",
              "    <tr>\n",
              "      <th>2017-08-25</th>\n",
              "      <td>71.138000</td>\n",
              "      <td>69.459999</td>\n",
              "      <td>70.848000</td>\n",
              "      <td>69.610001</td>\n",
              "      <td>17420000.0</td>\n",
              "      <td>69.610001</td>\n",
              "      <td>69.307999</td>\n",
              "      <td>69.307999</td>\n",
              "      <td>69.307999</td>\n",
              "      <td>69.307999</td>\n",
              "      <td>69.307999</td>\n",
              "    </tr>\n",
              "    <tr>\n",
              "      <th>...</th>\n",
              "      <td>...</td>\n",
              "      <td>...</td>\n",
              "      <td>...</td>\n",
              "      <td>...</td>\n",
              "      <td>...</td>\n",
              "      <td>...</td>\n",
              "      <td>...</td>\n",
              "      <td>...</td>\n",
              "      <td>...</td>\n",
              "      <td>...</td>\n",
              "      <td>...</td>\n",
              "    </tr>\n",
              "    <tr>\n",
              "      <th>2022-08-15</th>\n",
              "      <td>939.400024</td>\n",
              "      <td>903.690002</td>\n",
              "      <td>905.359985</td>\n",
              "      <td>927.960022</td>\n",
              "      <td>29786400.0</td>\n",
              "      <td>927.960022</td>\n",
              "      <td>803.475999</td>\n",
              "      <td>803.475999</td>\n",
              "      <td>776.890248</td>\n",
              "      <td>761.388398</td>\n",
              "      <td>751.149165</td>\n",
              "    </tr>\n",
              "    <tr>\n",
              "      <th>2022-08-16</th>\n",
              "      <td>944.000000</td>\n",
              "      <td>908.650024</td>\n",
              "      <td>935.000000</td>\n",
              "      <td>919.690002</td>\n",
              "      <td>29378800.0</td>\n",
              "      <td>919.690002</td>\n",
              "      <td>812.342666</td>\n",
              "      <td>812.342666</td>\n",
              "      <td>784.257748</td>\n",
              "      <td>765.494799</td>\n",
              "      <td>754.949165</td>\n",
              "    </tr>\n",
              "    <tr>\n",
              "      <th>2022-08-17</th>\n",
              "      <td>928.969971</td>\n",
              "      <td>900.099976</td>\n",
              "      <td>910.190002</td>\n",
              "      <td>911.989990</td>\n",
              "      <td>22922000.0</td>\n",
              "      <td>911.989990</td>\n",
              "      <td>819.604331</td>\n",
              "      <td>819.604331</td>\n",
              "      <td>790.167249</td>\n",
              "      <td>769.037399</td>\n",
              "      <td>758.219165</td>\n",
              "    </tr>\n",
              "    <tr>\n",
              "      <th>2022-08-18</th>\n",
              "      <td>919.500000</td>\n",
              "      <td>905.559998</td>\n",
              "      <td>918.000000</td>\n",
              "      <td>908.609985</td>\n",
              "      <td>15833500.0</td>\n",
              "      <td>908.609985</td>\n",
              "      <td>826.812331</td>\n",
              "      <td>826.812331</td>\n",
              "      <td>795.529498</td>\n",
              "      <td>773.357399</td>\n",
              "      <td>762.602165</td>\n",
              "    </tr>\n",
              "    <tr>\n",
              "      <th>2022-08-19</th>\n",
              "      <td>901.080017</td>\n",
              "      <td>877.500000</td>\n",
              "      <td>897.000000</td>\n",
              "      <td>890.000000</td>\n",
              "      <td>20417900.0</td>\n",
              "      <td>890.000000</td>\n",
              "      <td>832.478998</td>\n",
              "      <td>832.478998</td>\n",
              "      <td>800.111499</td>\n",
              "      <td>776.892198</td>\n",
              "      <td>766.659998</td>\n",
              "    </tr>\n",
              "  </tbody>\n",
              "</table>\n",
              "<p>1259 rows × 11 columns</p>\n",
              "</div>\n",
              "      <button class=\"colab-df-convert\" onclick=\"convertToInteractive('df-43bd7048-d439-475e-bb64-89f958703961')\"\n",
              "              title=\"Convert this dataframe to an interactive table.\"\n",
              "              style=\"display:none;\">\n",
              "        \n",
              "  <svg xmlns=\"http://www.w3.org/2000/svg\" height=\"24px\"viewBox=\"0 0 24 24\"\n",
              "       width=\"24px\">\n",
              "    <path d=\"M0 0h24v24H0V0z\" fill=\"none\"/>\n",
              "    <path d=\"M18.56 5.44l.94 2.06.94-2.06 2.06-.94-2.06-.94-.94-2.06-.94 2.06-2.06.94zm-11 1L8.5 8.5l.94-2.06 2.06-.94-2.06-.94L8.5 2.5l-.94 2.06-2.06.94zm10 10l.94 2.06.94-2.06 2.06-.94-2.06-.94-.94-2.06-.94 2.06-2.06.94z\"/><path d=\"M17.41 7.96l-1.37-1.37c-.4-.4-.92-.59-1.43-.59-.52 0-1.04.2-1.43.59L10.3 9.45l-7.72 7.72c-.78.78-.78 2.05 0 2.83L4 21.41c.39.39.9.59 1.41.59.51 0 1.02-.2 1.41-.59l7.78-7.78 2.81-2.81c.8-.78.8-2.07 0-2.86zM5.41 20L4 18.59l7.72-7.72 1.47 1.35L5.41 20z\"/>\n",
              "  </svg>\n",
              "      </button>\n",
              "      \n",
              "  <style>\n",
              "    .colab-df-container {\n",
              "      display:flex;\n",
              "      flex-wrap:wrap;\n",
              "      gap: 12px;\n",
              "    }\n",
              "\n",
              "    .colab-df-convert {\n",
              "      background-color: #E8F0FE;\n",
              "      border: none;\n",
              "      border-radius: 50%;\n",
              "      cursor: pointer;\n",
              "      display: none;\n",
              "      fill: #1967D2;\n",
              "      height: 32px;\n",
              "      padding: 0 0 0 0;\n",
              "      width: 32px;\n",
              "    }\n",
              "\n",
              "    .colab-df-convert:hover {\n",
              "      background-color: #E2EBFA;\n",
              "      box-shadow: 0px 1px 2px rgba(60, 64, 67, 0.3), 0px 1px 3px 1px rgba(60, 64, 67, 0.15);\n",
              "      fill: #174EA6;\n",
              "    }\n",
              "\n",
              "    [theme=dark] .colab-df-convert {\n",
              "      background-color: #3B4455;\n",
              "      fill: #D2E3FC;\n",
              "    }\n",
              "\n",
              "    [theme=dark] .colab-df-convert:hover {\n",
              "      background-color: #434B5C;\n",
              "      box-shadow: 0px 1px 3px 1px rgba(0, 0, 0, 0.15);\n",
              "      filter: drop-shadow(0px 1px 2px rgba(0, 0, 0, 0.3));\n",
              "      fill: #FFFFFF;\n",
              "    }\n",
              "  </style>\n",
              "\n",
              "      <script>\n",
              "        const buttonEl =\n",
              "          document.querySelector('#df-43bd7048-d439-475e-bb64-89f958703961 button.colab-df-convert');\n",
              "        buttonEl.style.display =\n",
              "          google.colab.kernel.accessAllowed ? 'block' : 'none';\n",
              "\n",
              "        async function convertToInteractive(key) {\n",
              "          const element = document.querySelector('#df-43bd7048-d439-475e-bb64-89f958703961');\n",
              "          const dataTable =\n",
              "            await google.colab.kernel.invokeFunction('convertToInteractive',\n",
              "                                                     [key], {});\n",
              "          if (!dataTable) return;\n",
              "\n",
              "          const docLinkHtml = 'Like what you see? Visit the ' +\n",
              "            '<a target=\"_blank\" href=https://colab.research.google.com/notebooks/data_table.ipynb>data table notebook</a>'\n",
              "            + ' to learn more about interactive tables.';\n",
              "          element.innerHTML = '';\n",
              "          dataTable['output_type'] = 'display_data';\n",
              "          await google.colab.output.renderOutput(dataTable, element);\n",
              "          const docLink = document.createElement('div');\n",
              "          docLink.innerHTML = docLinkHtml;\n",
              "          element.appendChild(docLink);\n",
              "        }\n",
              "      </script>\n",
              "    </div>\n",
              "  </div>\n",
              "  "
            ]
          },
          "metadata": {},
          "execution_count": 77
        }
      ]
    },
    {
      "cell_type": "code",
      "source": [
        "df_tesla[['Open','Open:10 days rolling','Open:30 days rolling','Open:40 days rolling','Open:50 days rolling','Open:60 days rolling']].plot(xlim=['2020-01-01','2021-01-01'],figsize=(12,5))"
      ],
      "metadata": {
        "colab": {
          "base_uri": "https://localhost:8080/",
          "height": 343
        },
        "id": "beoywIeBnoOi",
        "outputId": "33f7b1c7-3387-42b7-d7ab-fbd8127d95fa"
      },
      "execution_count": 78,
      "outputs": [
        {
          "output_type": "execute_result",
          "data": {
            "text/plain": [
              "<matplotlib.axes._subplots.AxesSubplot at 0x7f901d9d21d0>"
            ]
          },
          "metadata": {},
          "execution_count": 78
        },
        {
          "output_type": "display_data",
          "data": {
            "text/plain": [
              "<Figure size 864x360 with 1 Axes>"
            ],
            "image/png": "[encoded data removed]"
          },
          "metadata": {
            "needs_background": "light"
          }
        }
      ]
    },
    {
      "cell_type": "code",
      "source": [
        ""
      ],
      "metadata": {
        "id": "Pq14ruDdoBB2"
      },
      "execution_count": null,
      "outputs": []
    },
    {
      "cell_type": "markdown",
      "source": [
        "# STEP 8:Cumulative Moving Average"
      ],
      "metadata": {
        "id": "8wMPPunXp6XH"
      }
    },
    {
      "cell_type": "code",
      "source": [
        "df_tesla[\"Open\"].expanding().mean().plot(figsize=(10,5))"
      ],
      "metadata": {
        "colab": {
          "base_uri": "https://localhost:8080/",
          "height": 335
        },
        "id": "u5mFk4S2p81r",
        "outputId": "ac0c1c9b-c31e-4040-a692-4b4c0ce73b44"
      },
      "execution_count": 79,
      "outputs": [
        {
          "output_type": "execute_result",
          "data": {
            "text/plain": [
              "<matplotlib.axes._subplots.AxesSubplot at 0x7f901d931890>"
            ]
          },
          "metadata": {},
          "execution_count": 79
        },
        {
          "output_type": "display_data",
          "data": {
            "text/plain": [
              "<Figure size 720x360 with 1 Axes>"
            ],
            "image/png": "[encoded data removed]"
          },
          "metadata": {
            "needs_background": "light"
          }
        }
      ]
    },
    {
      "cell_type": "markdown",
      "source": [
        "#STEP 9 & STEP 10: Exponentially Weighted Average, Exponentially Weighted Moving Average"
      ],
      "metadata": {
        "id": "AVyBsuWfvod5"
      }
    },
    {
      "cell_type": "code",
      "source": [
        "df_tesla[\"EWM_0.1\"]=df_tesla[\"Open\"].ewm(alpha=0.1,adjust=False).mean()\n",
        "df_tesla[\"EWM_0.3\"]=df_tesla[\"Open\"].ewm(alpha=0.3,adjust=False).mean()\n",
        "df_tesla[\"EWM_0.6\"]=df_tesla[\"Open\"].ewm(alpha=0.6,adjust=False).mean()\n",
        "df_tesla[\"EWM_0.01\"]=df_tesla[\"Open\"].ewm(alpha=0.01,adjust=False).mean()"
      ],
      "metadata": {
        "id": "cI-rer-VqZxs"
      },
      "execution_count": 92,
      "outputs": []
    },
    {
      "cell_type": "code",
      "source": [
        "df_tesla[[\"Open\",\"EWM_0.1\",\"EWM_0.3\",\"EWM_0.6\",\"EWM_0.01\"]].plot(xlim=['2020-01-01','2021-01-01'],figsize=(12,5))"
      ],
      "metadata": {
        "colab": {
          "base_uri": "https://localhost:8080/",
          "height": 343
        },
        "id": "MYWKaMrqwF2t",
        "outputId": "a0630a1c-7a74-415e-886c-2fc5aa877a53"
      },
      "execution_count": 93,
      "outputs": [
        {
          "output_type": "execute_result",
          "data": {
            "text/plain": [
              "<matplotlib.axes._subplots.AxesSubplot at 0x7f901d4f1a50>"
            ]
          },
          "metadata": {},
          "execution_count": 93
        },
        {
          "output_type": "display_data",
          "data": {
            "text/plain": [
              "<Figure size 864x360 with 1 Axes>"
            ],
            "image/png": "[encoded data removed]"
          },
          "metadata": {
            "needs_background": "light"
          }
        }
      ]
    },
    {
      "cell_type": "code",
      "source": [
        "df_tesla[\"EWMA_0.1\"]=df_tesla[\"Open\"].ewm(alpha=0.1,adjust=True).mean()"
      ],
      "metadata": {
        "id": "50B9jgxbwfgT"
      },
      "execution_count": 94,
      "outputs": []
    },
    {
      "cell_type": "code",
      "source": [
        "df_tesla[[\"Open\",\"EWM_0.1\",\"EWMA_0.1\"]].plot(xlim=['2020-01-01','2021-01-01'],figsize=(12,5))\n"
      ],
      "metadata": {
        "colab": {
          "base_uri": "https://localhost:8080/",
          "height": 343
        },
        "id": "DGMXmq6Q13L_",
        "outputId": "16979715-28fc-4f8f-d33d-311d7fcc69da"
      },
      "execution_count": 96,
      "outputs": [
        {
          "output_type": "execute_result",
          "data": {
            "text/plain": [
              "<matplotlib.axes._subplots.AxesSubplot at 0x7f901d362590>"
            ]
          },
          "metadata": {},
          "execution_count": 96
        },
        {
          "output_type": "display_data",
          "data": {
            "text/plain": [
              "<Figure size 864x360 with 1 Axes>"
            ],
            "image/png": "[encoded data removed]"
          },
          "metadata": {
            "needs_background": "light"
          }
        }
      ]
    },
    {
      "cell_type": "code",
      "source": [
        ""
      ],
      "metadata": {
        "id": "p4f0wBH_166a"
      },
      "execution_count": null,
      "outputs": []
    }
  ]
}